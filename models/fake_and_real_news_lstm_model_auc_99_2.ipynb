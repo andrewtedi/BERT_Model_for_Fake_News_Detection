{
  "nbformat": 4,
  "nbformat_minor": 0,
  "metadata": {
    "kernelspec": {
      "display_name": "andrew_env",
      "language": "python",
      "name": "andrew_env"
    },
    "language_info": {
      "codemirror_mode": {
        "name": "ipython",
        "version": 3
      },
      "file_extension": ".py",
      "mimetype": "text/x-python",
      "name": "python",
      "nbconvert_exporter": "python",
      "pygments_lexer": "ipython3",
      "version": "3.8.5"
    },
    "papermill": {
      "duration": 414.344482,
      "end_time": "2021-01-20T12:09:43.999624",
      "environment_variables": {},
      "exception": null,
      "input_path": "__notebook__.ipynb",
      "output_path": "__notebook__.ipynb",
      "parameters": {},
      "start_time": "2021-01-20T12:02:49.655142",
      "version": "2.1.0"
    },
    "colab": {
      "name": "fake-and-real-news-lstm-model-auc-99-2.ipynb",
      "provenance": []
    }
  },
  "cells": [
    {
      "cell_type": "code",
      "metadata": {
        "_cell_guid": "b1076dfc-b9ad-4769-8c92-a6c4dae69d19",
        "_uuid": "8f2839f25d086af736a60e9eeb907d3b93b6e0e5",
        "execution": {
          "iopub.execute_input": "2021-01-20T12:02:53.974462Z",
          "iopub.status.busy": "2021-01-20T12:02:53.973769Z",
          "iopub.status.idle": "2021-01-20T12:02:53.983859Z",
          "shell.execute_reply": "2021-01-20T12:02:53.983224Z"
        },
        "papermill": {
          "duration": 0.044673,
          "end_time": "2021-01-20T12:02:53.983982",
          "exception": false,
          "start_time": "2021-01-20T12:02:53.939309",
          "status": "completed"
        },
        "tags": [],
        "id": "u_DJE1YxAGKC"
      },
      "source": [
        "from google.colab import drive\n",
        "drive.mount('/content/drive', force_remount=True)\n",
        "\n",
        "# From: https://www.kaggle.com/alandata666/fake-and-real-news-lstm-model-auc-99-2\n",
        "\n",
        "# This Python 3 environment comes with many helpful analytics libraries installed\n",
        "# It is defined by the kaggle/python Docker image: https://github.com/kaggle/docker-python\n",
        "# For example, here's several helpful packages to load\n",
        "\n",
        "import numpy as np # linear algebra\n",
        "import pandas as pd # data processing, CSV file I/O (e.g. pd.read_csv)\n",
        "import io\n",
        "\n",
        "# Input data files are available in the read-only \"../input/\" directory\n",
        "# For example, running this (by clicking run or pressing Shift+Enter) will list all files under the input directory\n",
        "\n",
        "import os\n",
        "for dirname, _, filenames in os.walk('/kaggle/input'):\n",
        "    for filename in filenames:\n",
        "        print(os.path.join(dirname, filename))\n",
        "\n",
        "# You can write up to 20GB to the current directory (/kaggle/working/) that gets preserved as output when you create a version using \"Save & Run All\" \n",
        "# You can also write temporary files to /kaggle/temp/, but they won't be saved outside of the current session"
      ],
      "execution_count": null,
      "outputs": []
    },
    {
      "cell_type": "markdown",
      "metadata": {
        "papermill": {
          "duration": 0.025108,
          "end_time": "2021-01-20T12:02:54.035958",
          "exception": false,
          "start_time": "2021-01-20T12:02:54.010850",
          "status": "completed"
        },
        "tags": [],
        "id": "geB5VNYbAGKJ"
      },
      "source": [
        "**bold text**# Pipeline\n",
        "* Import \n",
        "* Data EDA\n",
        "* Train an LSTM Model\n",
        "* Evaluate trained model performance"
      ]
    },
    {
      "cell_type": "markdown",
      "metadata": {
        "papermill": {
          "duration": 0.027673,
          "end_time": "2021-01-20T12:02:54.090885",
          "exception": false,
          "start_time": "2021-01-20T12:02:54.063212",
          "status": "completed"
        },
        "tags": [],
        "id": "UsmnOaHjAGKL"
      },
      "source": [
        "# Import "
      ]
    },
    {
      "cell_type": "code",
      "metadata": {
        "execution": {
          "iopub.execute_input": "2021-01-20T12:02:54.154588Z",
          "iopub.status.busy": "2021-01-20T12:02:54.153826Z",
          "iopub.status.idle": "2021-01-20T12:03:00.821921Z",
          "shell.execute_reply": "2021-01-20T12:03:00.820743Z"
        },
        "papermill": {
          "duration": 6.704478,
          "end_time": "2021-01-20T12:03:00.822055",
          "exception": false,
          "start_time": "2021-01-20T12:02:54.117577",
          "status": "completed"
        },
        "tags": [],
        "id": "MoLaJAO9AGKM"
      },
      "source": [
        "import tensorflow as tf\n",
        "import matplotlib.pyplot as plt\n",
        "import seaborn as sns\n",
        "from wordcloud import WordCloud, STOPWORDS\n",
        "import nltk\n",
        "import re\n",
        "from nltk.stem import PorterStemmer, WordNetLemmatizer\n",
        "from nltk.corpus import stopwords\n",
        "from nltk.tokenize import word_tokenize, sent_tokenize\n",
        "import gensim\n",
        "from gensim.utils import simple_preprocess\n",
        "from gensim.parsing.preprocessing import STOPWORDS\n",
        "#Now keras libraries\n",
        "from tensorflow.keras.preprocessing.text import one_hot, Tokenizer\n",
        "from tensorflow.keras.preprocessing.sequence import pad_sequences\n",
        "from tensorflow.keras.models import Sequential\n",
        "from tensorflow.keras.layers import Dense, Flatten, Embedding, Input, LSTM, Conv1D, MaxPool1D, Bidirectional\n",
        "from tensorflow.keras.models import Model\n",
        "\n",
        "from sklearn.metrics import accuracy_score\n",
        "from sklearn.model_selection import train_test_split\n",
        "from sklearn.metrics import accuracy_score, confusion_matrix, precision_score, recall_score\n",
        "import seaborn as sns \n",
        "plt.style.use('ggplot')"
      ],
      "execution_count": null,
      "outputs": []
    },
    {
      "cell_type": "code",
      "metadata": {
        "execution": {
          "iopub.execute_input": "2021-01-20T12:03:00.888141Z",
          "iopub.status.busy": "2021-01-20T12:03:00.887428Z",
          "iopub.status.idle": "2021-01-20T12:03:03.336290Z",
          "shell.execute_reply": "2021-01-20T12:03:03.335112Z"
        },
        "papermill": {
          "duration": 2.487794,
          "end_time": "2021-01-20T12:03:03.336417",
          "exception": false,
          "start_time": "2021-01-20T12:03:00.848623",
          "status": "completed"
        },
        "tags": [],
        "id": "1Vqm8aR2AGKO",
        "colab": {
          "resources": {
            "http://localhost:8080/nbextensions/google.colab/files.js": {
              "data": "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",
              "ok": true,
              "headers": [
                [
                  "content-type",
                  "application/javascript"
                ]
              ],
              "status": 200,
              "status_text": ""
            }
          },
          "base_uri": "https://localhost:8080/",
          "height": 127
        },
        "outputId": "4831f199-b412-4eec-f4e6-c7f7676e6de5"
      },
      "source": [
        "uploaded = files.upload()\n",
        "fake_df = pd.read_csv(\"/content/drive/My Drive/Fake_News/data/rawdata/Fake.csv\")\n",
        "uploaded = files.upload()\n",
        "real_df = pd.read_csv(\"/content/drive/My Drive/Fake_News/data/rawdata/True.csv\")"
      ],
      "execution_count": null,
      "outputs": [
        {
          "output_type": "display_data",
          "data": {
            "text/html": [
              "\n",
              "     <input type=\"file\" id=\"files-4280c441-9108-4ae4-a9a7-2aa456378bbd\" name=\"files[]\" multiple disabled\n",
              "        style=\"border:none\" />\n",
              "     <output id=\"result-4280c441-9108-4ae4-a9a7-2aa456378bbd\">\n",
              "      Upload widget is only available when the cell has been executed in the\n",
              "      current browser session. Please rerun this cell to enable.\n",
              "      </output>\n",
              "      <script src=\"/nbextensions/google.colab/files.js\"></script> "
            ],
            "text/plain": [
              "<IPython.core.display.HTML object>"
            ]
          },
          "metadata": {
            "tags": []
          }
        },
        {
          "output_type": "stream",
          "text": [
            "Saving Fake.csv to Fake (1).csv\n"
          ],
          "name": "stdout"
        },
        {
          "output_type": "display_data",
          "data": {
            "text/html": [
              "\n",
              "     <input type=\"file\" id=\"files-b017a46d-94a8-4981-a657-cf82a8de0345\" name=\"files[]\" multiple disabled\n",
              "        style=\"border:none\" />\n",
              "     <output id=\"result-b017a46d-94a8-4981-a657-cf82a8de0345\">\n",
              "      Upload widget is only available when the cell has been executed in the\n",
              "      current browser session. Please rerun this cell to enable.\n",
              "      </output>\n",
              "      <script src=\"/nbextensions/google.colab/files.js\"></script> "
            ],
            "text/plain": [
              "<IPython.core.display.HTML object>"
            ]
          },
          "metadata": {
            "tags": []
          }
        },
        {
          "output_type": "stream",
          "text": [
            "Saving True.csv to True.csv\n"
          ],
          "name": "stdout"
        }
      ]
    },
    {
      "cell_type": "code",
      "metadata": {
        "execution": {
          "iopub.execute_input": "2021-01-20T12:03:03.406621Z",
          "iopub.status.busy": "2021-01-20T12:03:03.405716Z",
          "iopub.status.idle": "2021-01-20T12:03:03.415736Z",
          "shell.execute_reply": "2021-01-20T12:03:03.416212Z"
        },
        "papermill": {
          "duration": 0.053162,
          "end_time": "2021-01-20T12:03:03.416335",
          "exception": false,
          "start_time": "2021-01-20T12:03:03.363173",
          "status": "completed"
        },
        "tags": [],
        "id": "knLKRmWZAGKP",
        "colab": {
          "base_uri": "https://localhost:8080/",
          "height": 204
        },
        "outputId": "50a0260f-11b8-41b0-e3e9-d0b46177c865"
      },
      "source": [
        "fake_df.head()"
      ],
      "execution_count": null,
      "outputs": [
        {
          "output_type": "execute_result",
          "data": {
            "text/html": [
              "<div>\n",
              "<style scoped>\n",
              "    .dataframe tbody tr th:only-of-type {\n",
              "        vertical-align: middle;\n",
              "    }\n",
              "\n",
              "    .dataframe tbody tr th {\n",
              "        vertical-align: top;\n",
              "    }\n",
              "\n",
              "    .dataframe thead th {\n",
              "        text-align: right;\n",
              "    }\n",
              "</style>\n",
              "<table border=\"1\" class=\"dataframe\">\n",
              "  <thead>\n",
              "    <tr style=\"text-align: right;\">\n",
              "      <th></th>\n",
              "      <th>title</th>\n",
              "      <th>text</th>\n",
              "      <th>subject</th>\n",
              "      <th>date</th>\n",
              "    </tr>\n",
              "  </thead>\n",
              "  <tbody>\n",
              "    <tr>\n",
              "      <th>0</th>\n",
              "      <td>Donald Trump Sends Out Embarrassing New Year’...</td>\n",
              "      <td>Donald Trump just couldn t wish all Americans ...</td>\n",
              "      <td>News</td>\n",
              "      <td>December 31, 2017</td>\n",
              "    </tr>\n",
              "    <tr>\n",
              "      <th>1</th>\n",
              "      <td>Drunk Bragging Trump Staffer Started Russian ...</td>\n",
              "      <td>House Intelligence Committee Chairman Devin Nu...</td>\n",
              "      <td>News</td>\n",
              "      <td>December 31, 2017</td>\n",
              "    </tr>\n",
              "    <tr>\n",
              "      <th>2</th>\n",
              "      <td>Sheriff David Clarke Becomes An Internet Joke...</td>\n",
              "      <td>On Friday, it was revealed that former Milwauk...</td>\n",
              "      <td>News</td>\n",
              "      <td>December 30, 2017</td>\n",
              "    </tr>\n",
              "    <tr>\n",
              "      <th>3</th>\n",
              "      <td>Trump Is So Obsessed He Even Has Obama’s Name...</td>\n",
              "      <td>On Christmas day, Donald Trump announced that ...</td>\n",
              "      <td>News</td>\n",
              "      <td>December 29, 2017</td>\n",
              "    </tr>\n",
              "    <tr>\n",
              "      <th>4</th>\n",
              "      <td>Pope Francis Just Called Out Donald Trump Dur...</td>\n",
              "      <td>Pope Francis used his annual Christmas Day mes...</td>\n",
              "      <td>News</td>\n",
              "      <td>December 25, 2017</td>\n",
              "    </tr>\n",
              "  </tbody>\n",
              "</table>\n",
              "</div>"
            ],
            "text/plain": [
              "                                               title  ...               date\n",
              "0   Donald Trump Sends Out Embarrassing New Year’...  ...  December 31, 2017\n",
              "1   Drunk Bragging Trump Staffer Started Russian ...  ...  December 31, 2017\n",
              "2   Sheriff David Clarke Becomes An Internet Joke...  ...  December 30, 2017\n",
              "3   Trump Is So Obsessed He Even Has Obama’s Name...  ...  December 29, 2017\n",
              "4   Pope Francis Just Called Out Donald Trump Dur...  ...  December 25, 2017\n",
              "\n",
              "[5 rows x 4 columns]"
            ]
          },
          "metadata": {
            "tags": []
          },
          "execution_count": 4
        }
      ]
    },
    {
      "cell_type": "code",
      "metadata": {
        "execution": {
          "iopub.execute_input": "2021-01-20T12:03:03.484774Z",
          "iopub.status.busy": "2021-01-20T12:03:03.483894Z",
          "iopub.status.idle": "2021-01-20T12:03:03.487957Z",
          "shell.execute_reply": "2021-01-20T12:03:03.488517Z"
        },
        "papermill": {
          "duration": 0.044925,
          "end_time": "2021-01-20T12:03:03.488666",
          "exception": false,
          "start_time": "2021-01-20T12:03:03.443741",
          "status": "completed"
        },
        "tags": [],
        "id": "A4hYVoIKAGKQ",
        "colab": {
          "base_uri": "https://localhost:8080/",
          "height": 204
        },
        "outputId": "f267e93f-329f-4e7e-d695-967c950a1cde"
      },
      "source": [
        "real_df.head()"
      ],
      "execution_count": null,
      "outputs": [
        {
          "output_type": "execute_result",
          "data": {
            "text/html": [
              "<div>\n",
              "<style scoped>\n",
              "    .dataframe tbody tr th:only-of-type {\n",
              "        vertical-align: middle;\n",
              "    }\n",
              "\n",
              "    .dataframe tbody tr th {\n",
              "        vertical-align: top;\n",
              "    }\n",
              "\n",
              "    .dataframe thead th {\n",
              "        text-align: right;\n",
              "    }\n",
              "</style>\n",
              "<table border=\"1\" class=\"dataframe\">\n",
              "  <thead>\n",
              "    <tr style=\"text-align: right;\">\n",
              "      <th></th>\n",
              "      <th>title</th>\n",
              "      <th>text</th>\n",
              "      <th>subject</th>\n",
              "      <th>date</th>\n",
              "    </tr>\n",
              "  </thead>\n",
              "  <tbody>\n",
              "    <tr>\n",
              "      <th>0</th>\n",
              "      <td>As U.S. budget fight looms, Republicans flip t...</td>\n",
              "      <td>WASHINGTON (Reuters) - The head of a conservat...</td>\n",
              "      <td>politicsNews</td>\n",
              "      <td>December 31, 2017</td>\n",
              "    </tr>\n",
              "    <tr>\n",
              "      <th>1</th>\n",
              "      <td>U.S. military to accept transgender recruits o...</td>\n",
              "      <td>WASHINGTON (Reuters) - Transgender people will...</td>\n",
              "      <td>politicsNews</td>\n",
              "      <td>December 29, 2017</td>\n",
              "    </tr>\n",
              "    <tr>\n",
              "      <th>2</th>\n",
              "      <td>Senior U.S. Republican senator: 'Let Mr. Muell...</td>\n",
              "      <td>WASHINGTON (Reuters) - The special counsel inv...</td>\n",
              "      <td>politicsNews</td>\n",
              "      <td>December 31, 2017</td>\n",
              "    </tr>\n",
              "    <tr>\n",
              "      <th>3</th>\n",
              "      <td>FBI Russia probe helped by Australian diplomat...</td>\n",
              "      <td>WASHINGTON (Reuters) - Trump campaign adviser ...</td>\n",
              "      <td>politicsNews</td>\n",
              "      <td>December 30, 2017</td>\n",
              "    </tr>\n",
              "    <tr>\n",
              "      <th>4</th>\n",
              "      <td>Trump wants Postal Service to charge 'much mor...</td>\n",
              "      <td>SEATTLE/WASHINGTON (Reuters) - President Donal...</td>\n",
              "      <td>politicsNews</td>\n",
              "      <td>December 29, 2017</td>\n",
              "    </tr>\n",
              "  </tbody>\n",
              "</table>\n",
              "</div>"
            ],
            "text/plain": [
              "                                               title  ...                date\n",
              "0  As U.S. budget fight looms, Republicans flip t...  ...  December 31, 2017 \n",
              "1  U.S. military to accept transgender recruits o...  ...  December 29, 2017 \n",
              "2  Senior U.S. Republican senator: 'Let Mr. Muell...  ...  December 31, 2017 \n",
              "3  FBI Russia probe helped by Australian diplomat...  ...  December 30, 2017 \n",
              "4  Trump wants Postal Service to charge 'much mor...  ...  December 29, 2017 \n",
              "\n",
              "[5 rows x 4 columns]"
            ]
          },
          "metadata": {
            "tags": []
          },
          "execution_count": 5
        }
      ]
    },
    {
      "cell_type": "code",
      "metadata": {
        "execution": {
          "iopub.execute_input": "2021-01-20T12:03:03.560809Z",
          "iopub.status.busy": "2021-01-20T12:03:03.559896Z",
          "iopub.status.idle": "2021-01-20T12:03:03.566115Z",
          "shell.execute_reply": "2021-01-20T12:03:03.566677Z"
        },
        "papermill": {
          "duration": 0.049761,
          "end_time": "2021-01-20T12:03:03.566810",
          "exception": false,
          "start_time": "2021-01-20T12:03:03.517049",
          "status": "completed"
        },
        "tags": [],
        "id": "9bAZPQVhAGKQ",
        "colab": {
          "base_uri": "https://localhost:8080/"
        },
        "outputId": "586dee6d-774a-4251-fca5-f6f93f64d58f"
      },
      "source": [
        "# Check null values \n",
        "real_df.isnull().sum()"
      ],
      "execution_count": null,
      "outputs": [
        {
          "output_type": "execute_result",
          "data": {
            "text/plain": [
              "title      0\n",
              "text       0\n",
              "subject    0\n",
              "date       0\n",
              "dtype: int64"
            ]
          },
          "metadata": {
            "tags": []
          },
          "execution_count": 6
        }
      ]
    },
    {
      "cell_type": "code",
      "metadata": {
        "execution": {
          "iopub.execute_input": "2021-01-20T12:03:03.641723Z",
          "iopub.status.busy": "2021-01-20T12:03:03.640846Z",
          "iopub.status.idle": "2021-01-20T12:03:03.647989Z",
          "shell.execute_reply": "2021-01-20T12:03:03.647402Z"
        },
        "papermill": {
          "duration": 0.0522,
          "end_time": "2021-01-20T12:03:03.648094",
          "exception": false,
          "start_time": "2021-01-20T12:03:03.595894",
          "status": "completed"
        },
        "tags": [],
        "id": "DExLYAz6AGKR",
        "colab": {
          "base_uri": "https://localhost:8080/"
        },
        "outputId": "edc34619-539a-474c-91da-75eab14b5668"
      },
      "source": [
        "fake_df.isnull().sum()"
      ],
      "execution_count": null,
      "outputs": [
        {
          "output_type": "execute_result",
          "data": {
            "text/plain": [
              "title      0\n",
              "text       0\n",
              "subject    0\n",
              "date       0\n",
              "dtype: int64"
            ]
          },
          "metadata": {
            "tags": []
          },
          "execution_count": 7
        }
      ]
    },
    {
      "cell_type": "code",
      "metadata": {
        "execution": {
          "iopub.execute_input": "2021-01-20T12:03:03.712705Z",
          "iopub.status.busy": "2021-01-20T12:03:03.711166Z",
          "iopub.status.idle": "2021-01-20T12:03:03.717604Z",
          "shell.execute_reply": "2021-01-20T12:03:03.717029Z"
        },
        "papermill": {
          "duration": 0.040528,
          "end_time": "2021-01-20T12:03:03.717713",
          "exception": false,
          "start_time": "2021-01-20T12:03:03.677185",
          "status": "completed"
        },
        "tags": [],
        "id": "S05LKaE5AGKS",
        "colab": {
          "base_uri": "https://localhost:8080/"
        },
        "outputId": "878d457a-f734-4199-d527-6a696841c8e2"
      },
      "source": [
        "#Check Data type\n",
        "real_df.subject.unique()"
      ],
      "execution_count": null,
      "outputs": [
        {
          "output_type": "execute_result",
          "data": {
            "text/plain": [
              "array(['politicsNews', 'worldnews'], dtype=object)"
            ]
          },
          "metadata": {
            "tags": []
          },
          "execution_count": 8
        }
      ]
    },
    {
      "cell_type": "code",
      "metadata": {
        "execution": {
          "iopub.execute_input": "2021-01-20T12:03:03.788020Z",
          "iopub.status.busy": "2021-01-20T12:03:03.786622Z",
          "iopub.status.idle": "2021-01-20T12:03:03.792898Z",
          "shell.execute_reply": "2021-01-20T12:03:03.792273Z"
        },
        "papermill": {
          "duration": 0.043723,
          "end_time": "2021-01-20T12:03:03.792998",
          "exception": false,
          "start_time": "2021-01-20T12:03:03.749275",
          "status": "completed"
        },
        "tags": [],
        "id": "iYB9fxoFAGKS",
        "colab": {
          "base_uri": "https://localhost:8080/"
        },
        "outputId": "a2d3adc7-3111-4707-e0e5-7ee64d35790f"
      },
      "source": [
        "fake_df.subject.unique()"
      ],
      "execution_count": null,
      "outputs": [
        {
          "output_type": "execute_result",
          "data": {
            "text/plain": [
              "array(['News', 'politics', 'Government News', 'left-news', 'US_News',\n",
              "       'Middle-east'], dtype=object)"
            ]
          },
          "metadata": {
            "tags": []
          },
          "execution_count": 9
        }
      ]
    },
    {
      "cell_type": "code",
      "metadata": {
        "execution": {
          "iopub.execute_input": "2021-01-20T12:03:03.870839Z",
          "iopub.status.busy": "2021-01-20T12:03:03.869895Z",
          "iopub.status.idle": "2021-01-20T12:03:03.882060Z",
          "shell.execute_reply": "2021-01-20T12:03:03.882579Z"
        },
        "papermill": {
          "duration": 0.059117,
          "end_time": "2021-01-20T12:03:03.882740",
          "exception": false,
          "start_time": "2021-01-20T12:03:03.823623",
          "status": "completed"
        },
        "tags": [],
        "id": "zq6N5QJLAGKT",
        "colab": {
          "base_uri": "https://localhost:8080/"
        },
        "outputId": "8b6ac62b-b506-411a-fa83-7d40bdee25a2"
      },
      "source": [
        "fake_df.info()"
      ],
      "execution_count": null,
      "outputs": [
        {
          "output_type": "stream",
          "text": [
            "<class 'pandas.core.frame.DataFrame'>\n",
            "RangeIndex: 23481 entries, 0 to 23480\n",
            "Data columns (total 4 columns):\n",
            " #   Column   Non-Null Count  Dtype \n",
            "---  ------   --------------  ----- \n",
            " 0   title    23481 non-null  object\n",
            " 1   text     23481 non-null  object\n",
            " 2   subject  23481 non-null  object\n",
            " 3   date     23481 non-null  object\n",
            "dtypes: object(4)\n",
            "memory usage: 733.9+ KB\n"
          ],
          "name": "stdout"
        }
      ]
    },
    {
      "cell_type": "code",
      "metadata": {
        "execution": {
          "iopub.execute_input": "2021-01-20T12:03:03.971617Z",
          "iopub.status.busy": "2021-01-20T12:03:03.970567Z",
          "iopub.status.idle": "2021-01-20T12:03:03.981945Z",
          "shell.execute_reply": "2021-01-20T12:03:03.982652Z"
        },
        "papermill": {
          "duration": 0.068123,
          "end_time": "2021-01-20T12:03:03.982853",
          "exception": false,
          "start_time": "2021-01-20T12:03:03.914730",
          "status": "completed"
        },
        "tags": [],
        "id": "BzlvVVvhAGKU",
        "colab": {
          "base_uri": "https://localhost:8080/"
        },
        "outputId": "e45b1be4-0cc6-4c4f-92f5-a2dee66ead4c"
      },
      "source": [
        "real_df.info()"
      ],
      "execution_count": null,
      "outputs": [
        {
          "output_type": "stream",
          "text": [
            "<class 'pandas.core.frame.DataFrame'>\n",
            "RangeIndex: 21417 entries, 0 to 21416\n",
            "Data columns (total 4 columns):\n",
            " #   Column   Non-Null Count  Dtype \n",
            "---  ------   --------------  ----- \n",
            " 0   title    21417 non-null  object\n",
            " 1   text     21417 non-null  object\n",
            " 2   subject  21417 non-null  object\n",
            " 3   date     21417 non-null  object\n",
            "dtypes: object(4)\n",
            "memory usage: 669.4+ KB\n"
          ],
          "name": "stdout"
        }
      ]
    },
    {
      "cell_type": "markdown",
      "metadata": {
        "papermill": {
          "duration": 0.030777,
          "end_time": "2021-01-20T12:03:04.049192",
          "exception": false,
          "start_time": "2021-01-20T12:03:04.018415",
          "status": "completed"
        },
        "tags": [],
        "id": "rywyw_lsAGKU"
      },
      "source": [
        "# Data EDA An Feature Engineering"
      ]
    },
    {
      "cell_type": "code",
      "metadata": {
        "execution": {
          "iopub.execute_input": "2021-01-20T12:03:04.126161Z",
          "iopub.status.busy": "2021-01-20T12:03:04.121777Z",
          "iopub.status.idle": "2021-01-20T12:03:04.129661Z",
          "shell.execute_reply": "2021-01-20T12:03:04.130307Z"
        },
        "papermill": {
          "duration": 0.049512,
          "end_time": "2021-01-20T12:03:04.130449",
          "exception": false,
          "start_time": "2021-01-20T12:03:04.080937",
          "status": "completed"
        },
        "tags": [],
        "id": "-IJd1jvvAGKV"
      },
      "source": [
        "fake_df.drop(['date', 'subject'], axis=1, inplace=True)\n",
        "real_df.drop(['date', 'subject'], axis=1, inplace=True)"
      ],
      "execution_count": null,
      "outputs": []
    },
    {
      "cell_type": "code",
      "metadata": {
        "execution": {
          "iopub.execute_input": "2021-01-20T12:03:04.201897Z",
          "iopub.status.busy": "2021-01-20T12:03:04.200959Z",
          "iopub.status.idle": "2021-01-20T12:03:04.204003Z",
          "shell.execute_reply": "2021-01-20T12:03:04.203432Z"
        },
        "papermill": {
          "duration": 0.041267,
          "end_time": "2021-01-20T12:03:04.204110",
          "exception": false,
          "start_time": "2021-01-20T12:03:04.162843",
          "status": "completed"
        },
        "tags": [],
        "id": "79V9_9ANAGKV"
      },
      "source": [
        "fake_df['class'] = 0 \n",
        "real_df['class'] = 1"
      ],
      "execution_count": null,
      "outputs": []
    },
    {
      "cell_type": "code",
      "metadata": {
        "execution": {
          "iopub.execute_input": "2021-01-20T12:03:04.312315Z",
          "iopub.status.busy": "2021-01-20T12:03:04.311688Z",
          "iopub.status.idle": "2021-01-20T12:03:04.503741Z",
          "shell.execute_reply": "2021-01-20T12:03:04.503021Z"
        },
        "papermill": {
          "duration": 0.230032,
          "end_time": "2021-01-20T12:03:04.503860",
          "exception": false,
          "start_time": "2021-01-20T12:03:04.273828",
          "status": "completed"
        },
        "tags": [],
        "id": "CPsa2F-_AGKW",
        "colab": {
          "base_uri": "https://localhost:8080/",
          "height": 374
        },
        "outputId": "e82f7b1d-5e3b-4eae-ad22-b5b6c1f54c34"
      },
      "source": [
        "plt.figure(figsize=(10, 5))\n",
        "plt.bar('Fake News', len(fake_df), color='red')\n",
        "plt.bar('Real News', len(real_df), color='green')\n",
        "plt.title('Distribution of Fake News and Real News', size=15)\n",
        "plt.xlabel('News Type', size=15)\n",
        "plt.ylabel('# OF News Articles', size=15)"
      ],
      "execution_count": null,
      "outputs": [
        {
          "output_type": "execute_result",
          "data": {
            "text/plain": [
              "Text(0, 0.5, '# OF News Articles')"
            ]
          },
          "metadata": {
            "tags": []
          },
          "execution_count": 14
        },
        {
          "output_type": "display_data",
          "data": {
            "image/png": "[encoded data removed]",
            "text/plain": [
              "<Figure size 720x360 with 1 Axes>"
            ]
          },
          "metadata": {
            "tags": []
          }
        }
      ]
    },
    {
      "cell_type": "code",
      "metadata": {
        "execution": {
          "iopub.execute_input": "2021-01-20T12:03:04.578916Z",
          "iopub.status.busy": "2021-01-20T12:03:04.578212Z",
          "iopub.status.idle": "2021-01-20T12:03:04.583457Z",
          "shell.execute_reply": "2021-01-20T12:03:04.584057Z"
        },
        "papermill": {
          "duration": 0.043175,
          "end_time": "2021-01-20T12:03:04.584217",
          "exception": false,
          "start_time": "2021-01-20T12:03:04.541042",
          "status": "completed"
        },
        "tags": [],
        "id": "M_A5iK0kAGKX",
        "colab": {
          "base_uri": "https://localhost:8080/"
        },
        "outputId": "4fb113c5-beb5-4caa-e5d1-ac5fb101375b"
      },
      "source": [
        "print('Difference in news articles:',len(fake_df)-len(real_df))"
      ],
      "execution_count": null,
      "outputs": [
        {
          "output_type": "stream",
          "text": [
            "Difference in news articles: 2064\n"
          ],
          "name": "stdout"
        }
      ]
    },
    {
      "cell_type": "code",
      "metadata": {
        "execution": {
          "iopub.execute_input": "2021-01-20T12:03:04.658646Z",
          "iopub.status.busy": "2021-01-20T12:03:04.657952Z",
          "iopub.status.idle": "2021-01-20T12:03:04.674240Z",
          "shell.execute_reply": "2021-01-20T12:03:04.672918Z"
        },
        "papermill": {
          "duration": 0.057591,
          "end_time": "2021-01-20T12:03:04.674342",
          "exception": false,
          "start_time": "2021-01-20T12:03:04.616751",
          "status": "completed"
        },
        "tags": [],
        "id": "yJdDvPVIAGKX",
        "colab": {
          "base_uri": "https://localhost:8080/",
          "height": 419
        },
        "outputId": "b885d3af-fd0b-4e79-f334-de350077b3a0"
      },
      "source": [
        "news_df = pd.concat([fake_df, real_df], ignore_index=True, sort=False)\n",
        "news_df"
      ],
      "execution_count": null,
      "outputs": [
        {
          "output_type": "execute_result",
          "data": {
            "text/html": [
              "<div>\n",
              "<style scoped>\n",
              "    .dataframe tbody tr th:only-of-type {\n",
              "        vertical-align: middle;\n",
              "    }\n",
              "\n",
              "    .dataframe tbody tr th {\n",
              "        vertical-align: top;\n",
              "    }\n",
              "\n",
              "    .dataframe thead th {\n",
              "        text-align: right;\n",
              "    }\n",
              "</style>\n",
              "<table border=\"1\" class=\"dataframe\">\n",
              "  <thead>\n",
              "    <tr style=\"text-align: right;\">\n",
              "      <th></th>\n",
              "      <th>title</th>\n",
              "      <th>text</th>\n",
              "      <th>class</th>\n",
              "    </tr>\n",
              "  </thead>\n",
              "  <tbody>\n",
              "    <tr>\n",
              "      <th>0</th>\n",
              "      <td>Donald Trump Sends Out Embarrassing New Year’...</td>\n",
              "      <td>Donald Trump just couldn t wish all Americans ...</td>\n",
              "      <td>0</td>\n",
              "    </tr>\n",
              "    <tr>\n",
              "      <th>1</th>\n",
              "      <td>Drunk Bragging Trump Staffer Started Russian ...</td>\n",
              "      <td>House Intelligence Committee Chairman Devin Nu...</td>\n",
              "      <td>0</td>\n",
              "    </tr>\n",
              "    <tr>\n",
              "      <th>2</th>\n",
              "      <td>Sheriff David Clarke Becomes An Internet Joke...</td>\n",
              "      <td>On Friday, it was revealed that former Milwauk...</td>\n",
              "      <td>0</td>\n",
              "    </tr>\n",
              "    <tr>\n",
              "      <th>3</th>\n",
              "      <td>Trump Is So Obsessed He Even Has Obama’s Name...</td>\n",
              "      <td>On Christmas day, Donald Trump announced that ...</td>\n",
              "      <td>0</td>\n",
              "    </tr>\n",
              "    <tr>\n",
              "      <th>4</th>\n",
              "      <td>Pope Francis Just Called Out Donald Trump Dur...</td>\n",
              "      <td>Pope Francis used his annual Christmas Day mes...</td>\n",
              "      <td>0</td>\n",
              "    </tr>\n",
              "    <tr>\n",
              "      <th>...</th>\n",
              "      <td>...</td>\n",
              "      <td>...</td>\n",
              "      <td>...</td>\n",
              "    </tr>\n",
              "    <tr>\n",
              "      <th>44893</th>\n",
              "      <td>'Fully committed' NATO backs new U.S. approach...</td>\n",
              "      <td>BRUSSELS (Reuters) - NATO allies on Tuesday we...</td>\n",
              "      <td>1</td>\n",
              "    </tr>\n",
              "    <tr>\n",
              "      <th>44894</th>\n",
              "      <td>LexisNexis withdrew two products from Chinese ...</td>\n",
              "      <td>LONDON (Reuters) - LexisNexis, a provider of l...</td>\n",
              "      <td>1</td>\n",
              "    </tr>\n",
              "    <tr>\n",
              "      <th>44895</th>\n",
              "      <td>Minsk cultural hub becomes haven from authorities</td>\n",
              "      <td>MINSK (Reuters) - In the shadow of disused Sov...</td>\n",
              "      <td>1</td>\n",
              "    </tr>\n",
              "    <tr>\n",
              "      <th>44896</th>\n",
              "      <td>Vatican upbeat on possibility of Pope Francis ...</td>\n",
              "      <td>MOSCOW (Reuters) - Vatican Secretary of State ...</td>\n",
              "      <td>1</td>\n",
              "    </tr>\n",
              "    <tr>\n",
              "      <th>44897</th>\n",
              "      <td>Indonesia to buy $1.14 billion worth of Russia...</td>\n",
              "      <td>JAKARTA (Reuters) - Indonesia will buy 11 Sukh...</td>\n",
              "      <td>1</td>\n",
              "    </tr>\n",
              "  </tbody>\n",
              "</table>\n",
              "<p>44898 rows × 3 columns</p>\n",
              "</div>"
            ],
            "text/plain": [
              "                                                   title  ... class\n",
              "0       Donald Trump Sends Out Embarrassing New Year’...  ...     0\n",
              "1       Drunk Bragging Trump Staffer Started Russian ...  ...     0\n",
              "2       Sheriff David Clarke Becomes An Internet Joke...  ...     0\n",
              "3       Trump Is So Obsessed He Even Has Obama’s Name...  ...     0\n",
              "4       Pope Francis Just Called Out Donald Trump Dur...  ...     0\n",
              "...                                                  ...  ...   ...\n",
              "44893  'Fully committed' NATO backs new U.S. approach...  ...     1\n",
              "44894  LexisNexis withdrew two products from Chinese ...  ...     1\n",
              "44895  Minsk cultural hub becomes haven from authorities  ...     1\n",
              "44896  Vatican upbeat on possibility of Pope Francis ...  ...     1\n",
              "44897  Indonesia to buy $1.14 billion worth of Russia...  ...     1\n",
              "\n",
              "[44898 rows x 3 columns]"
            ]
          },
          "metadata": {
            "tags": []
          },
          "execution_count": 16
        }
      ]
    },
    {
      "cell_type": "code",
      "metadata": {
        "execution": {
          "iopub.execute_input": "2021-01-20T12:03:04.749359Z",
          "iopub.status.busy": "2021-01-20T12:03:04.748453Z",
          "iopub.status.idle": "2021-01-20T12:03:04.928141Z",
          "shell.execute_reply": "2021-01-20T12:03:04.927544Z"
        },
        "papermill": {
          "duration": 0.219624,
          "end_time": "2021-01-20T12:03:04.928271",
          "exception": false,
          "start_time": "2021-01-20T12:03:04.708647",
          "status": "completed"
        },
        "tags": [],
        "id": "8opFnWlzAGKY"
      },
      "source": [
        "news_df['text'] = news_df['title'] + news_df['text']\n",
        "news_df.drop('title', axis=1, inplace=True)"
      ],
      "execution_count": null,
      "outputs": []
    },
    {
      "cell_type": "code",
      "metadata": {
        "id": "Nq1JccJuAGKY",
        "colab": {
          "resources": {
            "http://localhost:8080/nbextensions/google.colab/files.js": {
              "data": "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",
              "ok": true,
              "headers": [
                [
                  "content-type",
                  "application/javascript"
                ]
              ],
              "status": 200,
              "status_text": ""
            }
          },
          "base_uri": "https://localhost:8080/",
          "height": 72
        },
        "outputId": "f7c63228-d1a0-4175-aeb6-e31cd0d2810e"
      },
      "source": [
        "uploaded = files.upload()\n",
        "news_df = pd.read_csv(\"/content/drive/My Drive/Fake_News/data/cleandata/cleaned.csv\")"
      ],
      "execution_count": null,
      "outputs": [
        {
          "output_type": "display_data",
          "data": {
            "text/html": [
              "\n",
              "     <input type=\"file\" id=\"files-31774a94-e6c6-4815-a644-62b10c423d69\" name=\"files[]\" multiple disabled\n",
              "        style=\"border:none\" />\n",
              "     <output id=\"result-31774a94-e6c6-4815-a644-62b10c423d69\">\n",
              "      Upload widget is only available when the cell has been executed in the\n",
              "      current browser session. Please rerun this cell to enable.\n",
              "      </output>\n",
              "      <script src=\"/nbextensions/google.colab/files.js\"></script> "
            ],
            "text/plain": [
              "<IPython.core.display.HTML object>"
            ]
          },
          "metadata": {
            "tags": []
          }
        },
        {
          "output_type": "stream",
          "text": [
            "Saving cleaned.csv to cleaned.csv\n"
          ],
          "name": "stdout"
        }
      ]
    },
    {
      "cell_type": "code",
      "metadata": {
        "execution": {
          "iopub.execute_input": "2021-01-20T12:03:05.007561Z",
          "iopub.status.busy": "2021-01-20T12:03:05.005803Z",
          "iopub.status.idle": "2021-01-20T12:03:05.017116Z",
          "shell.execute_reply": "2021-01-20T12:03:05.016594Z"
        },
        "papermill": {
          "duration": 0.052188,
          "end_time": "2021-01-20T12:03:05.017225",
          "exception": false,
          "start_time": "2021-01-20T12:03:04.965037",
          "status": "completed"
        },
        "tags": [],
        "id": "KjC16qDwAGKZ"
      },
      "source": [
        "features = news_df['text']\n",
        "targets = news_df['category']\n",
        "\n",
        "X_train, X_test, y_train, y_test = train_test_split(features, targets, test_size=0.20, random_state=18)"
      ],
      "execution_count": null,
      "outputs": []
    },
    {
      "cell_type": "markdown",
      "metadata": {
        "papermill": {
          "duration": 0.035215,
          "end_time": "2021-01-20T12:03:05.087063",
          "exception": false,
          "start_time": "2021-01-20T12:03:05.051848",
          "status": "completed"
        },
        "tags": [],
        "id": "F0A9Fta_AGKa"
      },
      "source": [
        "* NLP Engineering"
      ]
    },
    {
      "cell_type": "code",
      "metadata": {
        "execution": {
          "iopub.execute_input": "2021-01-20T12:03:05.217562Z",
          "iopub.status.busy": "2021-01-20T12:03:05.202038Z",
          "iopub.status.idle": "2021-01-20T12:03:29.157180Z",
          "shell.execute_reply": "2021-01-20T12:03:29.156168Z"
        },
        "papermill": {
          "duration": 24.031444,
          "end_time": "2021-01-20T12:03:29.157295",
          "exception": false,
          "start_time": "2021-01-20T12:03:05.125851",
          "status": "completed"
        },
        "tags": [],
        "id": "_XAvclAPAGKa"
      },
      "source": [
        "def normalize(data):\n",
        "    normalized = []\n",
        "    for i in data:\n",
        "        i = i.lower()\n",
        "        # get rid of urls\n",
        "        i = re.sub('https?://\\S+|www\\.\\S+', '', i)\n",
        "        # get rid of non words and extra spaces\n",
        "        i = re.sub('\\\\W', ' ', i)\n",
        "        i = re.sub('\\n', '', i)\n",
        "        i = re.sub(' +', ' ', i)\n",
        "        i = re.sub('^ ', '', i)\n",
        "        i = re.sub(' $', '', i)\n",
        "        normalized.append(i)\n",
        "    return normalized\n",
        "\n",
        "X_train = normalize(X_train)\n",
        "X_test = normalize(X_test)"
      ],
      "execution_count": null,
      "outputs": []
    },
    {
      "cell_type": "code",
      "metadata": {
        "execution": {
          "iopub.execute_input": "2021-01-20T12:03:29.256358Z",
          "iopub.status.busy": "2021-01-20T12:03:29.240885Z",
          "iopub.status.idle": "2021-01-20T12:03:42.516170Z",
          "shell.execute_reply": "2021-01-20T12:03:42.516809Z"
        },
        "papermill": {
          "duration": 13.324916,
          "end_time": "2021-01-20T12:03:42.516957",
          "exception": false,
          "start_time": "2021-01-20T12:03:29.192041",
          "status": "completed"
        },
        "tags": [],
        "id": "KT1zr5jNAGKb"
      },
      "source": [
        "max_vocab = 10000\n",
        "tokenizer = Tokenizer(num_words=max_vocab)\n",
        "tokenizer.fit_on_texts(X_train)"
      ],
      "execution_count": null,
      "outputs": []
    },
    {
      "cell_type": "code",
      "metadata": {
        "execution": {
          "iopub.execute_input": "2021-01-20T12:03:42.619844Z",
          "iopub.status.busy": "2021-01-20T12:03:42.609737Z",
          "iopub.status.idle": "2021-01-20T12:03:58.207202Z",
          "shell.execute_reply": "2021-01-20T12:03:58.206666Z"
        },
        "papermill": {
          "duration": 15.651662,
          "end_time": "2021-01-20T12:03:58.207339",
          "exception": false,
          "start_time": "2021-01-20T12:03:42.555677",
          "status": "completed"
        },
        "tags": [],
        "id": "3fm8qIHKAGKb"
      },
      "source": [
        "# tokenize the text into vectors \n",
        "X_train = tokenizer.texts_to_sequences(X_train)\n",
        "X_test = tokenizer.texts_to_sequences(X_test)"
      ],
      "execution_count": null,
      "outputs": []
    },
    {
      "cell_type": "code",
      "metadata": {
        "execution": {
          "iopub.execute_input": "2021-01-20T12:03:58.288414Z",
          "iopub.status.busy": "2021-01-20T12:03:58.287701Z",
          "iopub.status.idle": "2021-01-20T12:04:02.869117Z",
          "shell.execute_reply": "2021-01-20T12:04:02.868356Z"
        },
        "papermill": {
          "duration": 4.625566,
          "end_time": "2021-01-20T12:04:02.869239",
          "exception": false,
          "start_time": "2021-01-20T12:03:58.243673",
          "status": "completed"
        },
        "tags": [],
        "id": "wB9-JDucAGKc",
        "colab": {
          "base_uri": "https://localhost:8080/"
        },
        "outputId": "7246af1e-615e-4ff4-8375-c6b519c6f450"
      },
      "source": [
        "#Build RNN modle\n",
        "\n",
        "model = tf.keras.Sequential([\n",
        "    tf.keras.layers.Embedding(max_vocab, 32),\n",
        "    tf.keras.layers.Bidirectional(tf.keras.layers.LSTM(64,  return_sequences=True)),\n",
        "    tf.keras.layers.Bidirectional(tf.keras.layers.LSTM(16)),\n",
        "    tf.keras.layers.Dense(64, activation='relu'),\n",
        "    tf.keras.layers.Dropout(0.5),\n",
        "    tf.keras.layers.Dense(1)\n",
        "])\n",
        "\n",
        "model.summary()"
      ],
      "execution_count": null,
      "outputs": [
        {
          "output_type": "stream",
          "text": [
            "Model: \"sequential\"\n",
            "_________________________________________________________________\n",
            "Layer (type)                 Output Shape              Param #   \n",
            "=================================================================\n",
            "embedding (Embedding)        (None, None, 32)          320000    \n",
            "_________________________________________________________________\n",
            "bidirectional (Bidirectional (None, None, 128)         49664     \n",
            "_________________________________________________________________\n",
            "bidirectional_1 (Bidirection (None, 32)                18560     \n",
            "_________________________________________________________________\n",
            "dense (Dense)                (None, 64)                2112      \n",
            "_________________________________________________________________\n",
            "dropout (Dropout)            (None, 64)                0         \n",
            "_________________________________________________________________\n",
            "dense_1 (Dense)              (None, 1)                 65        \n",
            "=================================================================\n",
            "Total params: 390,401\n",
            "Trainable params: 390,401\n",
            "Non-trainable params: 0\n",
            "_________________________________________________________________\n"
          ],
          "name": "stdout"
        }
      ]
    },
    {
      "cell_type": "code",
      "metadata": {
        "execution": {
          "iopub.execute_input": "2021-01-20T12:04:02.960817Z",
          "iopub.status.busy": "2021-01-20T12:04:02.959545Z",
          "iopub.status.idle": "2021-01-20T12:04:05.337388Z",
          "shell.execute_reply": "2021-01-20T12:04:05.336372Z"
        },
        "papermill": {
          "duration": 2.432782,
          "end_time": "2021-01-20T12:04:05.337536",
          "exception": false,
          "start_time": "2021-01-20T12:04:02.904754",
          "status": "completed"
        },
        "tags": [],
        "id": "dFHBZnXGAGKd"
      },
      "source": [
        "X_train = tf.keras.preprocessing.sequence.pad_sequences(X_train, padding='post', maxlen=256)\n",
        "X_test = tf.keras.preprocessing.sequence.pad_sequences(X_test, padding='post', maxlen=256)"
      ],
      "execution_count": null,
      "outputs": []
    },
    {
      "cell_type": "markdown",
      "metadata": {
        "papermill": {
          "duration": 0.036091,
          "end_time": "2021-01-20T12:04:05.410760",
          "exception": false,
          "start_time": "2021-01-20T12:04:05.374669",
          "status": "completed"
        },
        "tags": [],
        "id": "YHngV-2uAGKd"
      },
      "source": [
        "# Train an LSTM Model\n"
      ]
    },
    {
      "cell_type": "code",
      "metadata": {
        "execution": {
          "iopub.execute_input": "2021-01-20T12:04:05.499016Z",
          "iopub.status.busy": "2021-01-20T12:04:05.497215Z",
          "iopub.status.idle": "2021-01-20T12:09:00.387952Z",
          "shell.execute_reply": "2021-01-20T12:09:00.387126Z"
        },
        "papermill": {
          "duration": 294.942448,
          "end_time": "2021-01-20T12:09:00.388100",
          "exception": false,
          "start_time": "2021-01-20T12:04:05.445652",
          "status": "completed"
        },
        "tags": [],
        "id": "kOnetuV1AGKe",
        "colab": {
          "base_uri": "https://localhost:8080/"
        },
        "outputId": "2a27ea6d-06f3-4f30-c057-9c3dafba8b0e"
      },
      "source": [
        "early_stop = tf.keras.callbacks.EarlyStopping(monitor='val_loss', patience=2, restore_best_weights=True)\n",
        "model.compile(loss=tf.keras.losses.BinaryCrossentropy(from_logits=True),\n",
        "              optimizer=tf.keras.optimizers.Adam(1e-4),\n",
        "              metrics=['accuracy'])\n",
        "\n",
        "history = model.fit(X_train, y_train, epochs=10,validation_split=0.1, batch_size=30, shuffle=True, callbacks=[early_stop])"
      ],
      "execution_count": null,
      "outputs": [
        {
          "output_type": "stream",
          "text": [
            "Epoch 1/10\n",
            "1078/1078 [==============================] - 438s 400ms/step - loss: 0.4260 - accuracy: 0.7117 - val_loss: 0.0435 - val_accuracy: 0.9886\n",
            "Epoch 2/10\n",
            "1078/1078 [==============================] - 421s 391ms/step - loss: 0.0391 - accuracy: 0.9915 - val_loss: 0.0352 - val_accuracy: 0.9900\n",
            "Epoch 3/10\n",
            "1078/1078 [==============================] - 428s 397ms/step - loss: 0.0227 - accuracy: 0.9946 - val_loss: 0.0219 - val_accuracy: 0.9947\n",
            "Epoch 4/10\n",
            "1078/1078 [==============================] - 427s 397ms/step - loss: 0.0115 - accuracy: 0.9978 - val_loss: 0.0189 - val_accuracy: 0.9944\n",
            "Epoch 5/10\n",
            "1078/1078 [==============================] - 426s 395ms/step - loss: 0.0090 - accuracy: 0.9985 - val_loss: 0.0270 - val_accuracy: 0.9936\n",
            "Epoch 6/10\n",
            "1078/1078 [==============================] - 422s 392ms/step - loss: 0.0100 - accuracy: 0.9981 - val_loss: 0.0200 - val_accuracy: 0.9939\n"
          ],
          "name": "stdout"
        }
      ]
    },
    {
      "cell_type": "code",
      "metadata": {
        "execution": {
          "iopub.execute_input": "2021-01-20T12:09:03.962829Z",
          "iopub.status.busy": "2021-01-20T12:09:03.962095Z",
          "iopub.status.idle": "2021-01-20T12:09:04.381682Z",
          "shell.execute_reply": "2021-01-20T12:09:04.382308Z"
        },
        "papermill": {
          "duration": 2.476186,
          "end_time": "2021-01-20T12:09:04.382455",
          "exception": false,
          "start_time": "2021-01-20T12:09:01.906269",
          "status": "completed"
        },
        "tags": [],
        "id": "0GWGG-iUAGKe",
        "colab": {
          "base_uri": "https://localhost:8080/",
          "height": 1000
        },
        "outputId": "8d1d1311-fa36-41c7-e206-5f47a8d1bb97"
      },
      "source": [
        "history_dict = history.history\n",
        "\n",
        "acc = history_dict['accuracy']\n",
        "val_acc = history_dict['val_accuracy']\n",
        "loss = history_dict['loss']\n",
        "val_loss = history_dict['val_loss']\n",
        "epochs = history.epoch\n",
        "\n",
        "plt.figure(figsize=(12,9))\n",
        "plt.plot(epochs, loss, 'r', label='Training loss')\n",
        "plt.plot(epochs, val_loss, 'b', label='Validation loss')\n",
        "plt.title('Training and validation loss', size=20)\n",
        "plt.xlabel('Epochs', size=20)\n",
        "plt.ylabel('Loss', size=20)\n",
        "plt.legend(prop={'size': 20})\n",
        "plt.show()\n",
        "\n",
        "plt.figure(figsize=(12,9))\n",
        "plt.plot(epochs, acc, 'g', label='Training acc')\n",
        "plt.plot(epochs, val_acc, 'b', label='Validation acc')\n",
        "plt.title('Training and validation accuracy', size=20)\n",
        "plt.xlabel('Epochs', size=20)\n",
        "plt.ylabel('Accuracy', size=20)\n",
        "plt.legend(prop={'size': 20})\n",
        "plt.ylim((0.5,1))\n",
        "plt.show()"
      ],
      "execution_count": null,
      "outputs": [
        {
          "output_type": "display_data",
          "data": {
            "image/png": "[encoded data removed]",
            "text/plain": [
              "<Figure size 864x648 with 1 Axes>"
            ]
          },
          "metadata": {
            "tags": []
          }
        },
        {
          "output_type": "display_data",
          "data": {
            "image/png": "[encoded data removed]",
            "text/plain": [
              "<Figure size 864x648 with 1 Axes>"
            ]
          },
          "metadata": {
            "tags": []
          }
        }
      ]
    },
    {
      "cell_type": "markdown",
      "metadata": {
        "papermill": {
          "duration": 1.352857,
          "end_time": "2021-01-20T12:09:07.166563",
          "exception": false,
          "start_time": "2021-01-20T12:09:05.813706",
          "status": "completed"
        },
        "tags": [],
        "id": "9WMUNDNMAGKf"
      },
      "source": [
        "# Evaluate trained model performance"
      ]
    },
    {
      "cell_type": "code",
      "metadata": {
        "execution": {
          "iopub.execute_input": "2021-01-20T12:09:09.971229Z",
          "iopub.status.busy": "2021-01-20T12:09:09.970248Z",
          "iopub.status.idle": "2021-01-20T12:09:14.832887Z",
          "shell.execute_reply": "2021-01-20T12:09:14.832118Z"
        },
        "papermill": {
          "duration": 6.283301,
          "end_time": "2021-01-20T12:09:14.833046",
          "exception": false,
          "start_time": "2021-01-20T12:09:08.549745",
          "status": "completed"
        },
        "tags": [],
        "id": "WiNmjusyAGKh",
        "colab": {
          "base_uri": "https://localhost:8080/"
        },
        "outputId": "2be64dbd-2276-444e-9d50-78908e7816e8"
      },
      "source": [
        "model.evaluate(X_test, y_test)"
      ],
      "execution_count": null,
      "outputs": [
        {
          "output_type": "stream",
          "text": [
            "281/281 [==============================] - 24s 85ms/step - loss: 0.0314 - accuracy: 0.9932\n"
          ],
          "name": "stdout"
        },
        {
          "output_type": "execute_result",
          "data": {
            "text/plain": [
              "[0.031393397599458694, 0.9932071566581726]"
            ]
          },
          "metadata": {
            "tags": []
          },
          "execution_count": 27
        }
      ]
    },
    {
      "cell_type": "code",
      "metadata": {
        "execution": {
          "iopub.execute_input": "2021-01-20T12:09:17.645075Z",
          "iopub.status.busy": "2021-01-20T12:09:17.643996Z",
          "iopub.status.idle": "2021-01-20T12:09:23.291270Z",
          "shell.execute_reply": "2021-01-20T12:09:23.290652Z"
        },
        "papermill": {
          "duration": 7.073773,
          "end_time": "2021-01-20T12:09:23.291410",
          "exception": false,
          "start_time": "2021-01-20T12:09:16.217637",
          "status": "completed"
        },
        "tags": [],
        "id": "LQGrP2CYAGKh"
      },
      "source": [
        "pred = model.predict(X_test)\n",
        "\n",
        "binary_predictions = []\n",
        "\n",
        "for i in pred:\n",
        "    if i >= 0.5:\n",
        "        binary_predictions.append(1)\n",
        "    else:\n",
        "        binary_predictions.append(0) "
      ],
      "execution_count": null,
      "outputs": []
    },
    {
      "cell_type": "code",
      "metadata": {
        "execution": {
          "iopub.execute_input": "2021-01-20T12:09:26.308290Z",
          "iopub.status.busy": "2021-01-20T12:09:26.307326Z",
          "iopub.status.idle": "2021-01-20T12:09:26.352225Z",
          "shell.execute_reply": "2021-01-20T12:09:26.353008Z"
        },
        "papermill": {
          "duration": 1.454476,
          "end_time": "2021-01-20T12:09:26.353204",
          "exception": false,
          "start_time": "2021-01-20T12:09:24.898728",
          "status": "completed"
        },
        "tags": [],
        "id": "ZY-Kk-UDAGKl",
        "colab": {
          "base_uri": "https://localhost:8080/"
        },
        "outputId": "71fbee44-4f98-474a-da44-07895a9737f4"
      },
      "source": [
        "print('Accuracy on testing set:', accuracy_score(binary_predictions, y_test))\n",
        "print('Precision on testing set:', precision_score(binary_predictions, y_test))\n",
        "print('Recall on testing set:', recall_score(binary_predictions, y_test))"
      ],
      "execution_count": null,
      "outputs": [
        {
          "output_type": "stream",
          "text": [
            "Accuracy on testing set: 0.9932071269487751\n",
            "Precision on testing set: 0.9903474903474904\n",
            "Recall on testing set: 0.9965465141377078\n"
          ],
          "name": "stdout"
        }
      ]
    },
    {
      "cell_type": "code",
      "metadata": {
        "execution": {
          "iopub.execute_input": "2021-01-20T12:09:29.170249Z",
          "iopub.status.busy": "2021-01-20T12:09:29.169339Z",
          "iopub.status.idle": "2021-01-20T12:09:29.430177Z",
          "shell.execute_reply": "2021-01-20T12:09:29.430740Z"
        },
        "papermill": {
          "duration": 1.673478,
          "end_time": "2021-01-20T12:09:29.430923",
          "exception": false,
          "start_time": "2021-01-20T12:09:27.757445",
          "status": "completed"
        },
        "tags": [],
        "id": "sf-EWtNrAGKl",
        "colab": {
          "base_uri": "https://localhost:8080/"
        },
        "outputId": "93170e55-28c7-4776-c941-96d2ae661205"
      },
      "source": [
        "matrix = confusion_matrix(binary_predictions, y_test, normalize='all')\n",
        "plt.figure(figsize=(16, 9))\n",
        "ax= plt.subplot()\n",
        "sns.heatmap(matrix, annot=True, ax = ax)\n",
        "\n",
        "# labels, title and ticks\n",
        "ax.set_xlabel('Predicted Labels', size=20)\n",
        "ax.set_ylabel('True Labels', size=20)\n",
        "ax.set_title('Confusion Matrix', size=20) \n",
        "ax.xaxis.set_ticklabels([0,1], size=15)\n",
        "ax.yaxis.set_ticklabels([0,1], size=15)"
      ],
      "execution_count": null,
      "outputs": [
        {
          "output_type": "execute_result",
          "data": {
            "text/plain": [
              "[Text(0, 0.5, '0'), Text(0, 1.5, '1')]"
            ]
          },
          "metadata": {
            "tags": []
          },
          "execution_count": 30
        },
        {
          "output_type": "display_data",
          "data": {
            "image/png": "[encoded data removed]",
            "text/plain": [
              "<Figure size 1152x648 with 2 Axes>"
            ]
          },
          "metadata": {
            "tags": []
          }
        }
      ]
    },
    {
      "cell_type": "code",
      "metadata": {
        "execution": {
          "iopub.execute_input": "2021-01-20T12:09:32.296811Z",
          "iopub.status.busy": "2021-01-20T12:09:32.295853Z",
          "iopub.status.idle": "2021-01-20T12:09:32.301348Z",
          "shell.execute_reply": "2021-01-20T12:09:32.300752Z"
        },
        "papermill": {
          "duration": 1.408893,
          "end_time": "2021-01-20T12:09:32.301458",
          "exception": false,
          "start_time": "2021-01-20T12:09:30.892565",
          "status": "completed"
        },
        "tags": [],
        "id": "yAxN9dyXAGKm",
        "colab": {
          "base_uri": "https://localhost:8080/"
        },
        "outputId": "29fd2491-f50a-4aeb-b9d2-b00c2eb1a006"
      },
      "source": [
        "e = model.layers[0]\n",
        "weights = e.get_weights()[0]\n",
        "print(weights.shape) # shape: (vocab_size, embedding_dim)"
      ],
      "execution_count": null,
      "outputs": [
        {
          "output_type": "stream",
          "text": [
            "(10000, 32)\n"
          ],
          "name": "stdout"
        }
      ]
    },
    {
      "cell_type": "code",
      "metadata": {
        "execution": {
          "iopub.execute_input": "2021-01-20T12:09:34.983790Z",
          "iopub.status.busy": "2021-01-20T12:09:34.982728Z",
          "iopub.status.idle": "2021-01-20T12:09:34.986010Z",
          "shell.execute_reply": "2021-01-20T12:09:34.985475Z"
        },
        "papermill": {
          "duration": 1.351888,
          "end_time": "2021-01-20T12:09:34.986121",
          "exception": false,
          "start_time": "2021-01-20T12:09:33.634233",
          "status": "completed"
        },
        "tags": [],
        "id": "pHlOiSI7AGKm"
      },
      "source": [
        "word_index = list(tokenizer.word_index.keys())\n",
        "word_index = word_index[:max_vocab-1]"
      ],
      "execution_count": null,
      "outputs": []
    },
    {
      "cell_type": "code",
      "metadata": {
        "execution": {
          "iopub.execute_input": "2021-01-20T12:09:37.978087Z",
          "iopub.status.busy": "2021-01-20T12:09:37.969944Z",
          "iopub.status.idle": "2021-01-20T12:09:38.311674Z",
          "shell.execute_reply": "2021-01-20T12:09:38.310952Z"
        },
        "papermill": {
          "duration": 1.713608,
          "end_time": "2021-01-20T12:09:38.311798",
          "exception": false,
          "start_time": "2021-01-20T12:09:36.598190",
          "status": "completed"
        },
        "tags": [],
        "id": "F3Xhca5-AGKn"
      },
      "source": [
        "import io\n",
        "\n",
        "out_v = io.open('fakenews_vecs.tsv', 'w', encoding='utf-8')\n",
        "out_m = io.open('fakenews_meta.tsv', 'w', encoding='utf-8')\n",
        "\n",
        "for num, word in enumerate(word_index):\n",
        "  vec = weights[num+1] # skip 0, it's padding.\n",
        "  out_m.write(word + \"\\n\")\n",
        "  out_v.write('\\t'.join([str(x) for x in vec]) + \"\\n\")\n",
        "out_v.close()\n",
        "out_m.close()"
      ],
      "execution_count": null,
      "outputs": []
    }
  ]
}