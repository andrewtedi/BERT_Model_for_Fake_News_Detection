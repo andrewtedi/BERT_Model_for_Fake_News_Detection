{
 "cells": [
  {
   "cell_type": "code",
   "execution_count": null,
   "metadata": {},
   "outputs": [],
   "source": [
    "import tensorflow as tf"
   ]
  }
 ],
 "metadata": {
  "kernelspec": {
   "display_name": "andrew_env",
   "language": "python",
   "name": "andrew_env"
  }
 },
 "nbformat": 4,
 "nbformat_minor": 4
}
