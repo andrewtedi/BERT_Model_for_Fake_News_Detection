{
 "cells": [
  {
   "cell_type": "code",
   "execution_count": 1,
   "metadata": {
    "_cell_guid": "b1076dfc-b9ad-4769-8c92-a6c4dae69d19",
    "_uuid": "8f2839f25d086af736a60e9eeb907d3b93b6e0e5",
    "execution": {
     "iopub.execute_input": "2021-01-20T12:02:53.974462Z",
     "iopub.status.busy": "2021-01-20T12:02:53.973769Z",
     "iopub.status.idle": "2021-01-20T12:02:53.983859Z",
     "shell.execute_reply": "2021-01-20T12:02:53.983224Z"
    },
    "papermill": {
     "duration": 0.044673,
     "end_time": "2021-01-20T12:02:53.983982",
     "exception": false,
     "start_time": "2021-01-20T12:02:53.939309",
     "status": "completed"
    },
    "tags": []
   },
   "outputs": [
    {
     "name": "stdout",
     "output_type": "stream",
     "text": [
      "/kaggle/input/fake-and-real-news-dataset/True.csv\n",
      "/kaggle/input/fake-and-real-news-dataset/Fake.csv\n"
     ]
    }
   ],
   "source": [
    "# This Python 3 environment comes with many helpful analytics libraries installed\n",
    "# It is defined by the kaggle/python Docker image: https://github.com/kaggle/docker-python\n",
    "# For example, here's several helpful packages to load\n",
    "\n",
    "import numpy as np # linear algebra\n",
    "import pandas as pd # data processing, CSV file I/O (e.g. pd.read_csv)\n",
    "\n",
    "# Input data files are available in the read-only \"../input/\" directory\n",
    "# For example, running this (by clicking run or pressing Shift+Enter) will list all files under the input directory\n",
    "\n",
    "import os\n",
    "for dirname, _, filenames in os.walk('/kaggle/input'):\n",
    "    for filename in filenames:\n",
    "        print(os.path.join(dirname, filename))\n",
    "\n",
    "# You can write up to 20GB to the current directory (/kaggle/working/) that gets preserved as output when you create a version using \"Save & Run All\" \n",
    "# You can also write temporary files to /kaggle/temp/, but they won't be saved outside of the current session"
   ]
  },
  {
   "cell_type": "markdown",
   "metadata": {
    "papermill": {
     "duration": 0.025108,
     "end_time": "2021-01-20T12:02:54.035958",
     "exception": false,
     "start_time": "2021-01-20T12:02:54.010850",
     "status": "completed"
    },
    "tags": []
   },
   "source": [
    "# Pippline\n",
    "* Import \n",
    "* Data EDA\n",
    "* Train an LSTM Model\n",
    "* Evaluate trained model performance"
   ]
  },
  {
   "cell_type": "markdown",
   "metadata": {
    "papermill": {
     "duration": 0.027673,
     "end_time": "2021-01-20T12:02:54.090885",
     "exception": false,
     "start_time": "2021-01-20T12:02:54.063212",
     "status": "completed"
    },
    "tags": []
   },
   "source": [
    "# Import "
   ]
  },
  {
   "cell_type": "code",
   "execution_count": 2,
   "metadata": {
    "execution": {
     "iopub.execute_input": "2021-01-20T12:02:54.154588Z",
     "iopub.status.busy": "2021-01-20T12:02:54.153826Z",
     "iopub.status.idle": "2021-01-20T12:03:00.821921Z",
     "shell.execute_reply": "2021-01-20T12:03:00.820743Z"
    },
    "papermill": {
     "duration": 6.704478,
     "end_time": "2021-01-20T12:03:00.822055",
     "exception": false,
     "start_time": "2021-01-20T12:02:54.117577",
     "status": "completed"
    },
    "tags": []
   },
   "outputs": [],
   "source": [
    "import tensorflow as tf\n",
    "import matplotlib.pyplot as plt\n",
    "import seaborn as sns\n",
    "from wordcloud import WordCloud, STOPWORDS\n",
    "import nltk\n",
    "import re\n",
    "from nltk.stem import PorterStemmer, WordNetLemmatizer\n",
    "from nltk.corpus import stopwords\n",
    "from nltk.tokenize import word_tokenize, sent_tokenize\n",
    "import gensim\n",
    "from gensim.utils import simple_preprocess\n",
    "from gensim.parsing.preprocessing import STOPWORDS\n",
    "#Now keras libraries\n",
    "from tensorflow.keras.preprocessing.text import one_hot, Tokenizer\n",
    "from tensorflow.keras.preprocessing.sequence import pad_sequences\n",
    "from tensorflow.keras.models import Sequential\n",
    "from tensorflow.keras.layers import Dense, Flatten, Embedding, Input, LSTM, Conv1D, MaxPool1D, Bidirectional\n",
    "from tensorflow.keras.models import Model\n",
    "\n",
    "from sklearn.metrics import accuracy_score\n",
    "from sklearn.model_selection import train_test_split\n",
    "from sklearn.metrics import accuracy_score, confusion_matrix, precision_score, recall_score\n",
    "import seaborn as sns \n",
    "plt.style.use('ggplot')"
   ]
  },
  {
   "cell_type": "code",
   "execution_count": 3,
   "metadata": {
    "execution": {
     "iopub.execute_input": "2021-01-20T12:03:00.888141Z",
     "iopub.status.busy": "2021-01-20T12:03:00.887428Z",
     "iopub.status.idle": "2021-01-20T12:03:03.336290Z",
     "shell.execute_reply": "2021-01-20T12:03:03.335112Z"
    },
    "papermill": {
     "duration": 2.487794,
     "end_time": "2021-01-20T12:03:03.336417",
     "exception": false,
     "start_time": "2021-01-20T12:03:00.848623",
     "status": "completed"
    },
    "tags": []
   },
   "outputs": [],
   "source": [
    "fake_df = pd.read_csv('../data/rawdata/False.csv')\n",
    "real_df = pd.read_csv('../data/rawdata/True.csv')"
   ]
  },
  {
   "cell_type": "code",
   "execution_count": 4,
   "metadata": {
    "execution": {
     "iopub.execute_input": "2021-01-20T12:03:03.406621Z",
     "iopub.status.busy": "2021-01-20T12:03:03.405716Z",
     "iopub.status.idle": "2021-01-20T12:03:03.415736Z",
     "shell.execute_reply": "2021-01-20T12:03:03.416212Z"
    },
    "papermill": {
     "duration": 0.053162,
     "end_time": "2021-01-20T12:03:03.416335",
     "exception": false,
     "start_time": "2021-01-20T12:03:03.363173",
     "status": "completed"
    },
    "tags": []
   },
   "outputs": [
    {
     "data": {
      "text/html": [
       "<div>\n",
       "<style scoped>\n",
       "    .dataframe tbody tr th:only-of-type {\n",
       "        vertical-align: middle;\n",
       "    }\n",
       "\n",
       "    .dataframe tbody tr th {\n",
       "        vertical-align: top;\n",
       "    }\n",
       "\n",
       "    .dataframe thead th {\n",
       "        text-align: right;\n",
       "    }\n",
       "</style>\n",
       "<table border=\"1\" class=\"dataframe\">\n",
       "  <thead>\n",
       "    <tr style=\"text-align: right;\">\n",
       "      <th></th>\n",
       "      <th>title</th>\n",
       "      <th>text</th>\n",
       "      <th>subject</th>\n",
       "      <th>date</th>\n",
       "    </tr>\n",
       "  </thead>\n",
       "  <tbody>\n",
       "    <tr>\n",
       "      <th>0</th>\n",
       "      <td>Donald Trump Sends Out Embarrassing New Year’...</td>\n",
       "      <td>Donald Trump just couldn t wish all Americans ...</td>\n",
       "      <td>News</td>\n",
       "      <td>December 31, 2017</td>\n",
       "    </tr>\n",
       "    <tr>\n",
       "      <th>1</th>\n",
       "      <td>Drunk Bragging Trump Staffer Started Russian ...</td>\n",
       "      <td>House Intelligence Committee Chairman Devin Nu...</td>\n",
       "      <td>News</td>\n",
       "      <td>December 31, 2017</td>\n",
       "    </tr>\n",
       "    <tr>\n",
       "      <th>2</th>\n",
       "      <td>Sheriff David Clarke Becomes An Internet Joke...</td>\n",
       "      <td>On Friday, it was revealed that former Milwauk...</td>\n",
       "      <td>News</td>\n",
       "      <td>December 30, 2017</td>\n",
       "    </tr>\n",
       "    <tr>\n",
       "      <th>3</th>\n",
       "      <td>Trump Is So Obsessed He Even Has Obama’s Name...</td>\n",
       "      <td>On Christmas day, Donald Trump announced that ...</td>\n",
       "      <td>News</td>\n",
       "      <td>December 29, 2017</td>\n",
       "    </tr>\n",
       "    <tr>\n",
       "      <th>4</th>\n",
       "      <td>Pope Francis Just Called Out Donald Trump Dur...</td>\n",
       "      <td>Pope Francis used his annual Christmas Day mes...</td>\n",
       "      <td>News</td>\n",
       "      <td>December 25, 2017</td>\n",
       "    </tr>\n",
       "  </tbody>\n",
       "</table>\n",
       "</div>"
      ],
      "text/plain": [
       "                                               title  \\\n",
       "0   Donald Trump Sends Out Embarrassing New Year’...   \n",
       "1   Drunk Bragging Trump Staffer Started Russian ...   \n",
       "2   Sheriff David Clarke Becomes An Internet Joke...   \n",
       "3   Trump Is So Obsessed He Even Has Obama’s Name...   \n",
       "4   Pope Francis Just Called Out Donald Trump Dur...   \n",
       "\n",
       "                                                text subject  \\\n",
       "0  Donald Trump just couldn t wish all Americans ...    News   \n",
       "1  House Intelligence Committee Chairman Devin Nu...    News   \n",
       "2  On Friday, it was revealed that former Milwauk...    News   \n",
       "3  On Christmas day, Donald Trump announced that ...    News   \n",
       "4  Pope Francis used his annual Christmas Day mes...    News   \n",
       "\n",
       "                date  \n",
       "0  December 31, 2017  \n",
       "1  December 31, 2017  \n",
       "2  December 30, 2017  \n",
       "3  December 29, 2017  \n",
       "4  December 25, 2017  "
      ]
     },
     "execution_count": 4,
     "metadata": {},
     "output_type": "execute_result"
    }
   ],
   "source": [
    "fake_df.head()"
   ]
  },
  {
   "cell_type": "code",
   "execution_count": 5,
   "metadata": {
    "execution": {
     "iopub.execute_input": "2021-01-20T12:03:03.484774Z",
     "iopub.status.busy": "2021-01-20T12:03:03.483894Z",
     "iopub.status.idle": "2021-01-20T12:03:03.487957Z",
     "shell.execute_reply": "2021-01-20T12:03:03.488517Z"
    },
    "papermill": {
     "duration": 0.044925,
     "end_time": "2021-01-20T12:03:03.488666",
     "exception": false,
     "start_time": "2021-01-20T12:03:03.443741",
     "status": "completed"
    },
    "tags": []
   },
   "outputs": [
    {
     "data": {
      "text/html": [
       "<div>\n",
       "<style scoped>\n",
       "    .dataframe tbody tr th:only-of-type {\n",
       "        vertical-align: middle;\n",
       "    }\n",
       "\n",
       "    .dataframe tbody tr th {\n",
       "        vertical-align: top;\n",
       "    }\n",
       "\n",
       "    .dataframe thead th {\n",
       "        text-align: right;\n",
       "    }\n",
       "</style>\n",
       "<table border=\"1\" class=\"dataframe\">\n",
       "  <thead>\n",
       "    <tr style=\"text-align: right;\">\n",
       "      <th></th>\n",
       "      <th>title</th>\n",
       "      <th>text</th>\n",
       "      <th>subject</th>\n",
       "      <th>date</th>\n",
       "    </tr>\n",
       "  </thead>\n",
       "  <tbody>\n",
       "    <tr>\n",
       "      <th>0</th>\n",
       "      <td>As U.S. budget fight looms, Republicans flip t...</td>\n",
       "      <td>WASHINGTON (Reuters) - The head of a conservat...</td>\n",
       "      <td>politicsNews</td>\n",
       "      <td>December 31, 2017</td>\n",
       "    </tr>\n",
       "    <tr>\n",
       "      <th>1</th>\n",
       "      <td>U.S. military to accept transgender recruits o...</td>\n",
       "      <td>WASHINGTON (Reuters) - Transgender people will...</td>\n",
       "      <td>politicsNews</td>\n",
       "      <td>December 29, 2017</td>\n",
       "    </tr>\n",
       "    <tr>\n",
       "      <th>2</th>\n",
       "      <td>Senior U.S. Republican senator: 'Let Mr. Muell...</td>\n",
       "      <td>WASHINGTON (Reuters) - The special counsel inv...</td>\n",
       "      <td>politicsNews</td>\n",
       "      <td>December 31, 2017</td>\n",
       "    </tr>\n",
       "    <tr>\n",
       "      <th>3</th>\n",
       "      <td>FBI Russia probe helped by Australian diplomat...</td>\n",
       "      <td>WASHINGTON (Reuters) - Trump campaign adviser ...</td>\n",
       "      <td>politicsNews</td>\n",
       "      <td>December 30, 2017</td>\n",
       "    </tr>\n",
       "    <tr>\n",
       "      <th>4</th>\n",
       "      <td>Trump wants Postal Service to charge 'much mor...</td>\n",
       "      <td>SEATTLE/WASHINGTON (Reuters) - President Donal...</td>\n",
       "      <td>politicsNews</td>\n",
       "      <td>December 29, 2017</td>\n",
       "    </tr>\n",
       "  </tbody>\n",
       "</table>\n",
       "</div>"
      ],
      "text/plain": [
       "                                               title  \\\n",
       "0  As U.S. budget fight looms, Republicans flip t...   \n",
       "1  U.S. military to accept transgender recruits o...   \n",
       "2  Senior U.S. Republican senator: 'Let Mr. Muell...   \n",
       "3  FBI Russia probe helped by Australian diplomat...   \n",
       "4  Trump wants Postal Service to charge 'much mor...   \n",
       "\n",
       "                                                text       subject  \\\n",
       "0  WASHINGTON (Reuters) - The head of a conservat...  politicsNews   \n",
       "1  WASHINGTON (Reuters) - Transgender people will...  politicsNews   \n",
       "2  WASHINGTON (Reuters) - The special counsel inv...  politicsNews   \n",
       "3  WASHINGTON (Reuters) - Trump campaign adviser ...  politicsNews   \n",
       "4  SEATTLE/WASHINGTON (Reuters) - President Donal...  politicsNews   \n",
       "\n",
       "                 date  \n",
       "0  December 31, 2017   \n",
       "1  December 29, 2017   \n",
       "2  December 31, 2017   \n",
       "3  December 30, 2017   \n",
       "4  December 29, 2017   "
      ]
     },
     "execution_count": 5,
     "metadata": {},
     "output_type": "execute_result"
    }
   ],
   "source": [
    "real_df.head()"
   ]
  },
  {
   "cell_type": "code",
   "execution_count": 6,
   "metadata": {
    "execution": {
     "iopub.execute_input": "2021-01-20T12:03:03.560809Z",
     "iopub.status.busy": "2021-01-20T12:03:03.559896Z",
     "iopub.status.idle": "2021-01-20T12:03:03.566115Z",
     "shell.execute_reply": "2021-01-20T12:03:03.566677Z"
    },
    "papermill": {
     "duration": 0.049761,
     "end_time": "2021-01-20T12:03:03.566810",
     "exception": false,
     "start_time": "2021-01-20T12:03:03.517049",
     "status": "completed"
    },
    "tags": []
   },
   "outputs": [
    {
     "data": {
      "text/plain": [
       "title      0\n",
       "text       0\n",
       "subject    0\n",
       "date       0\n",
       "dtype: int64"
      ]
     },
     "execution_count": 6,
     "metadata": {},
     "output_type": "execute_result"
    }
   ],
   "source": [
    "# Check null values \n",
    "real_df.isnull().sum()"
   ]
  },
  {
   "cell_type": "code",
   "execution_count": 7,
   "metadata": {
    "execution": {
     "iopub.execute_input": "2021-01-20T12:03:03.641723Z",
     "iopub.status.busy": "2021-01-20T12:03:03.640846Z",
     "iopub.status.idle": "2021-01-20T12:03:03.647989Z",
     "shell.execute_reply": "2021-01-20T12:03:03.647402Z"
    },
    "papermill": {
     "duration": 0.0522,
     "end_time": "2021-01-20T12:03:03.648094",
     "exception": false,
     "start_time": "2021-01-20T12:03:03.595894",
     "status": "completed"
    },
    "tags": []
   },
   "outputs": [
    {
     "data": {
      "text/plain": [
       "title      0\n",
       "text       0\n",
       "subject    0\n",
       "date       0\n",
       "dtype: int64"
      ]
     },
     "execution_count": 7,
     "metadata": {},
     "output_type": "execute_result"
    }
   ],
   "source": [
    "fake_df.isnull().sum()"
   ]
  },
  {
   "cell_type": "code",
   "execution_count": 8,
   "metadata": {
    "execution": {
     "iopub.execute_input": "2021-01-20T12:03:03.712705Z",
     "iopub.status.busy": "2021-01-20T12:03:03.711166Z",
     "iopub.status.idle": "2021-01-20T12:03:03.717604Z",
     "shell.execute_reply": "2021-01-20T12:03:03.717029Z"
    },
    "papermill": {
     "duration": 0.040528,
     "end_time": "2021-01-20T12:03:03.717713",
     "exception": false,
     "start_time": "2021-01-20T12:03:03.677185",
     "status": "completed"
    },
    "tags": []
   },
   "outputs": [
    {
     "data": {
      "text/plain": [
       "array(['politicsNews', 'worldnews'], dtype=object)"
      ]
     },
     "execution_count": 8,
     "metadata": {},
     "output_type": "execute_result"
    }
   ],
   "source": [
    "#Check Data type\n",
    "real_df.subject.unique()"
   ]
  },
  {
   "cell_type": "code",
   "execution_count": 9,
   "metadata": {
    "execution": {
     "iopub.execute_input": "2021-01-20T12:03:03.788020Z",
     "iopub.status.busy": "2021-01-20T12:03:03.786622Z",
     "iopub.status.idle": "2021-01-20T12:03:03.792898Z",
     "shell.execute_reply": "2021-01-20T12:03:03.792273Z"
    },
    "papermill": {
     "duration": 0.043723,
     "end_time": "2021-01-20T12:03:03.792998",
     "exception": false,
     "start_time": "2021-01-20T12:03:03.749275",
     "status": "completed"
    },
    "tags": []
   },
   "outputs": [
    {
     "data": {
      "text/plain": [
       "array(['News', 'politics', 'Government News', 'left-news', 'US_News',\n",
       "       'Middle-east'], dtype=object)"
      ]
     },
     "execution_count": 9,
     "metadata": {},
     "output_type": "execute_result"
    }
   ],
   "source": [
    "fake_df.subject.unique()"
   ]
  },
  {
   "cell_type": "code",
   "execution_count": 10,
   "metadata": {
    "execution": {
     "iopub.execute_input": "2021-01-20T12:03:03.870839Z",
     "iopub.status.busy": "2021-01-20T12:03:03.869895Z",
     "iopub.status.idle": "2021-01-20T12:03:03.882060Z",
     "shell.execute_reply": "2021-01-20T12:03:03.882579Z"
    },
    "papermill": {
     "duration": 0.059117,
     "end_time": "2021-01-20T12:03:03.882740",
     "exception": false,
     "start_time": "2021-01-20T12:03:03.823623",
     "status": "completed"
    },
    "tags": []
   },
   "outputs": [
    {
     "name": "stdout",
     "output_type": "stream",
     "text": [
      "<class 'pandas.core.frame.DataFrame'>\n",
      "RangeIndex: 23481 entries, 0 to 23480\n",
      "Data columns (total 4 columns):\n",
      " #   Column   Non-Null Count  Dtype \n",
      "---  ------   --------------  ----- \n",
      " 0   title    23481 non-null  object\n",
      " 1   text     23481 non-null  object\n",
      " 2   subject  23481 non-null  object\n",
      " 3   date     23481 non-null  object\n",
      "dtypes: object(4)\n",
      "memory usage: 733.9+ KB\n"
     ]
    }
   ],
   "source": [
    "fake_df.info()"
   ]
  },
  {
   "cell_type": "code",
   "execution_count": 11,
   "metadata": {
    "execution": {
     "iopub.execute_input": "2021-01-20T12:03:03.971617Z",
     "iopub.status.busy": "2021-01-20T12:03:03.970567Z",
     "iopub.status.idle": "2021-01-20T12:03:03.981945Z",
     "shell.execute_reply": "2021-01-20T12:03:03.982652Z"
    },
    "papermill": {
     "duration": 0.068123,
     "end_time": "2021-01-20T12:03:03.982853",
     "exception": false,
     "start_time": "2021-01-20T12:03:03.914730",
     "status": "completed"
    },
    "tags": []
   },
   "outputs": [
    {
     "name": "stdout",
     "output_type": "stream",
     "text": [
      "<class 'pandas.core.frame.DataFrame'>\n",
      "RangeIndex: 21417 entries, 0 to 21416\n",
      "Data columns (total 4 columns):\n",
      " #   Column   Non-Null Count  Dtype \n",
      "---  ------   --------------  ----- \n",
      " 0   title    21417 non-null  object\n",
      " 1   text     21417 non-null  object\n",
      " 2   subject  21417 non-null  object\n",
      " 3   date     21417 non-null  object\n",
      "dtypes: object(4)\n",
      "memory usage: 669.4+ KB\n"
     ]
    }
   ],
   "source": [
    "real_df.info()"
   ]
  },
  {
   "cell_type": "markdown",
   "metadata": {
    "papermill": {
     "duration": 0.030777,
     "end_time": "2021-01-20T12:03:04.049192",
     "exception": false,
     "start_time": "2021-01-20T12:03:04.018415",
     "status": "completed"
    },
    "tags": []
   },
   "source": [
    "# Data EDA An Feature Engineering"
   ]
  },
  {
   "cell_type": "code",
   "execution_count": 12,
   "metadata": {
    "execution": {
     "iopub.execute_input": "2021-01-20T12:03:04.126161Z",
     "iopub.status.busy": "2021-01-20T12:03:04.121777Z",
     "iopub.status.idle": "2021-01-20T12:03:04.129661Z",
     "shell.execute_reply": "2021-01-20T12:03:04.130307Z"
    },
    "papermill": {
     "duration": 0.049512,
     "end_time": "2021-01-20T12:03:04.130449",
     "exception": false,
     "start_time": "2021-01-20T12:03:04.080937",
     "status": "completed"
    },
    "tags": []
   },
   "outputs": [],
   "source": [
    "fake_df.drop(['date', 'subject'], axis=1, inplace=True)\n",
    "real_df.drop(['date', 'subject'], axis=1, inplace=True)"
   ]
  },
  {
   "cell_type": "code",
   "execution_count": 13,
   "metadata": {
    "execution": {
     "iopub.execute_input": "2021-01-20T12:03:04.201897Z",
     "iopub.status.busy": "2021-01-20T12:03:04.200959Z",
     "iopub.status.idle": "2021-01-20T12:03:04.204003Z",
     "shell.execute_reply": "2021-01-20T12:03:04.203432Z"
    },
    "papermill": {
     "duration": 0.041267,
     "end_time": "2021-01-20T12:03:04.204110",
     "exception": false,
     "start_time": "2021-01-20T12:03:04.162843",
     "status": "completed"
    },
    "tags": []
   },
   "outputs": [],
   "source": [
    "fake_df['class'] = 0 \n",
    "real_df['class'] = 1"
   ]
  },
  {
   "cell_type": "code",
   "execution_count": 14,
   "metadata": {
    "execution": {
     "iopub.execute_input": "2021-01-20T12:03:04.312315Z",
     "iopub.status.busy": "2021-01-20T12:03:04.311688Z",
     "iopub.status.idle": "2021-01-20T12:03:04.503741Z",
     "shell.execute_reply": "2021-01-20T12:03:04.503021Z"
    },
    "papermill": {
     "duration": 0.230032,
     "end_time": "2021-01-20T12:03:04.503860",
     "exception": false,
     "start_time": "2021-01-20T12:03:04.273828",
     "status": "completed"
    },
    "tags": []
   },
   "outputs": [
    {
     "data": {
      "text/plain": [
       "Text(0, 0.5, '# OF News Articles')"
      ]
     },
     "execution_count": 14,
     "metadata": {},
     "output_type": "execute_result"
    },
    {
     "data": {
      "image/png": "[encoded data removed]",
      "text/plain": [
       "<Figure size 720x360 with 1 Axes>"
      ]
     },
     "metadata": {},
     "output_type": "display_data"
    }
   ],
   "source": [
    "plt.figure(figsize=(10, 5))\n",
    "plt.bar('Fake News', len(fake_df), color='red')\n",
    "plt.bar('Real News', len(real_df), color='green')\n",
    "plt.title('Distribution of Fake News and Real News', size=15)\n",
    "plt.xlabel('News Type', size=15)\n",
    "plt.ylabel('# OF News Articles', size=15)"
   ]
  },
  {
   "cell_type": "code",
   "execution_count": 15,
   "metadata": {
    "execution": {
     "iopub.execute_input": "2021-01-20T12:03:04.578916Z",
     "iopub.status.busy": "2021-01-20T12:03:04.578212Z",
     "iopub.status.idle": "2021-01-20T12:03:04.583457Z",
     "shell.execute_reply": "2021-01-20T12:03:04.584057Z"
    },
    "papermill": {
     "duration": 0.043175,
     "end_time": "2021-01-20T12:03:04.584217",
     "exception": false,
     "start_time": "2021-01-20T12:03:04.541042",
     "status": "completed"
    },
    "tags": []
   },
   "outputs": [
    {
     "name": "stdout",
     "output_type": "stream",
     "text": [
      "Difference in news articles: 2064\n"
     ]
    }
   ],
   "source": [
    "print('Difference in news articles:',len(fake_df)-len(real_df))"
   ]
  },
  {
   "cell_type": "code",
   "execution_count": 16,
   "metadata": {
    "execution": {
     "iopub.execute_input": "2021-01-20T12:03:04.658646Z",
     "iopub.status.busy": "2021-01-20T12:03:04.657952Z",
     "iopub.status.idle": "2021-01-20T12:03:04.674240Z",
     "shell.execute_reply": "2021-01-20T12:03:04.672918Z"
    },
    "papermill": {
     "duration": 0.057591,
     "end_time": "2021-01-20T12:03:04.674342",
     "exception": false,
     "start_time": "2021-01-20T12:03:04.616751",
     "status": "completed"
    },
    "tags": []
   },
   "outputs": [
    {
     "data": {
      "text/html": [
       "<div>\n",
       "<style scoped>\n",
       "    .dataframe tbody tr th:only-of-type {\n",
       "        vertical-align: middle;\n",
       "    }\n",
       "\n",
       "    .dataframe tbody tr th {\n",
       "        vertical-align: top;\n",
       "    }\n",
       "\n",
       "    .dataframe thead th {\n",
       "        text-align: right;\n",
       "    }\n",
       "</style>\n",
       "<table border=\"1\" class=\"dataframe\">\n",
       "  <thead>\n",
       "    <tr style=\"text-align: right;\">\n",
       "      <th></th>\n",
       "      <th>title</th>\n",
       "      <th>text</th>\n",
       "      <th>class</th>\n",
       "    </tr>\n",
       "  </thead>\n",
       "  <tbody>\n",
       "    <tr>\n",
       "      <th>0</th>\n",
       "      <td>Donald Trump Sends Out Embarrassing New Year’...</td>\n",
       "      <td>Donald Trump just couldn t wish all Americans ...</td>\n",
       "      <td>0</td>\n",
       "    </tr>\n",
       "    <tr>\n",
       "      <th>1</th>\n",
       "      <td>Drunk Bragging Trump Staffer Started Russian ...</td>\n",
       "      <td>House Intelligence Committee Chairman Devin Nu...</td>\n",
       "      <td>0</td>\n",
       "    </tr>\n",
       "    <tr>\n",
       "      <th>2</th>\n",
       "      <td>Sheriff David Clarke Becomes An Internet Joke...</td>\n",
       "      <td>On Friday, it was revealed that former Milwauk...</td>\n",
       "      <td>0</td>\n",
       "    </tr>\n",
       "    <tr>\n",
       "      <th>3</th>\n",
       "      <td>Trump Is So Obsessed He Even Has Obama’s Name...</td>\n",
       "      <td>On Christmas day, Donald Trump announced that ...</td>\n",
       "      <td>0</td>\n",
       "    </tr>\n",
       "    <tr>\n",
       "      <th>4</th>\n",
       "      <td>Pope Francis Just Called Out Donald Trump Dur...</td>\n",
       "      <td>Pope Francis used his annual Christmas Day mes...</td>\n",
       "      <td>0</td>\n",
       "    </tr>\n",
       "    <tr>\n",
       "      <th>...</th>\n",
       "      <td>...</td>\n",
       "      <td>...</td>\n",
       "      <td>...</td>\n",
       "    </tr>\n",
       "    <tr>\n",
       "      <th>44893</th>\n",
       "      <td>'Fully committed' NATO backs new U.S. approach...</td>\n",
       "      <td>BRUSSELS (Reuters) - NATO allies on Tuesday we...</td>\n",
       "      <td>1</td>\n",
       "    </tr>\n",
       "    <tr>\n",
       "      <th>44894</th>\n",
       "      <td>LexisNexis withdrew two products from Chinese ...</td>\n",
       "      <td>LONDON (Reuters) - LexisNexis, a provider of l...</td>\n",
       "      <td>1</td>\n",
       "    </tr>\n",
       "    <tr>\n",
       "      <th>44895</th>\n",
       "      <td>Minsk cultural hub becomes haven from authorities</td>\n",
       "      <td>MINSK (Reuters) - In the shadow of disused Sov...</td>\n",
       "      <td>1</td>\n",
       "    </tr>\n",
       "    <tr>\n",
       "      <th>44896</th>\n",
       "      <td>Vatican upbeat on possibility of Pope Francis ...</td>\n",
       "      <td>MOSCOW (Reuters) - Vatican Secretary of State ...</td>\n",
       "      <td>1</td>\n",
       "    </tr>\n",
       "    <tr>\n",
       "      <th>44897</th>\n",
       "      <td>Indonesia to buy $1.14 billion worth of Russia...</td>\n",
       "      <td>JAKARTA (Reuters) - Indonesia will buy 11 Sukh...</td>\n",
       "      <td>1</td>\n",
       "    </tr>\n",
       "  </tbody>\n",
       "</table>\n",
       "<p>44898 rows × 3 columns</p>\n",
       "</div>"
      ],
      "text/plain": [
       "                                                   title  \\\n",
       "0       Donald Trump Sends Out Embarrassing New Year’...   \n",
       "1       Drunk Bragging Trump Staffer Started Russian ...   \n",
       "2       Sheriff David Clarke Becomes An Internet Joke...   \n",
       "3       Trump Is So Obsessed He Even Has Obama’s Name...   \n",
       "4       Pope Francis Just Called Out Donald Trump Dur...   \n",
       "...                                                  ...   \n",
       "44893  'Fully committed' NATO backs new U.S. approach...   \n",
       "44894  LexisNexis withdrew two products from Chinese ...   \n",
       "44895  Minsk cultural hub becomes haven from authorities   \n",
       "44896  Vatican upbeat on possibility of Pope Francis ...   \n",
       "44897  Indonesia to buy $1.14 billion worth of Russia...   \n",
       "\n",
       "                                                    text  class  \n",
       "0      Donald Trump just couldn t wish all Americans ...      0  \n",
       "1      House Intelligence Committee Chairman Devin Nu...      0  \n",
       "2      On Friday, it was revealed that former Milwauk...      0  \n",
       "3      On Christmas day, Donald Trump announced that ...      0  \n",
       "4      Pope Francis used his annual Christmas Day mes...      0  \n",
       "...                                                  ...    ...  \n",
       "44893  BRUSSELS (Reuters) - NATO allies on Tuesday we...      1  \n",
       "44894  LONDON (Reuters) - LexisNexis, a provider of l...      1  \n",
       "44895  MINSK (Reuters) - In the shadow of disused Sov...      1  \n",
       "44896  MOSCOW (Reuters) - Vatican Secretary of State ...      1  \n",
       "44897  JAKARTA (Reuters) - Indonesia will buy 11 Sukh...      1  \n",
       "\n",
       "[44898 rows x 3 columns]"
      ]
     },
     "execution_count": 16,
     "metadata": {},
     "output_type": "execute_result"
    }
   ],
   "source": [
    "news_df = pd.concat([fake_df, real_df], ignore_index=True, sort=False)\n",
    "news_df"
   ]
  },
  {
   "cell_type": "code",
   "execution_count": 17,
   "metadata": {
    "execution": {
     "iopub.execute_input": "2021-01-20T12:03:04.749359Z",
     "iopub.status.busy": "2021-01-20T12:03:04.748453Z",
     "iopub.status.idle": "2021-01-20T12:03:04.928141Z",
     "shell.execute_reply": "2021-01-20T12:03:04.927544Z"
    },
    "papermill": {
     "duration": 0.219624,
     "end_time": "2021-01-20T12:03:04.928271",
     "exception": false,
     "start_time": "2021-01-20T12:03:04.708647",
     "status": "completed"
    },
    "tags": []
   },
   "outputs": [],
   "source": [
    "news_df['text'] = news_df['title'] + news_df['text']\n",
    "news_df.drop('title', axis=1, inplace=True)"
   ]
  },
  {
   "cell_type": "code",
   "execution_count": 18,
   "metadata": {
    "execution": {
     "iopub.execute_input": "2021-01-20T12:03:05.007561Z",
     "iopub.status.busy": "2021-01-20T12:03:05.005803Z",
     "iopub.status.idle": "2021-01-20T12:03:05.017116Z",
     "shell.execute_reply": "2021-01-20T12:03:05.016594Z"
    },
    "papermill": {
     "duration": 0.052188,
     "end_time": "2021-01-20T12:03:05.017225",
     "exception": false,
     "start_time": "2021-01-20T12:03:04.965037",
     "status": "completed"
    },
    "tags": []
   },
   "outputs": [],
   "source": [
    "features = news_df['text']\n",
    "targets = news_df['class']\n",
    "\n",
    "X_train, X_test, y_train, y_test = train_test_split(features, targets, test_size=0.20, random_state=18)"
   ]
  },
  {
   "cell_type": "markdown",
   "metadata": {
    "papermill": {
     "duration": 0.035215,
     "end_time": "2021-01-20T12:03:05.087063",
     "exception": false,
     "start_time": "2021-01-20T12:03:05.051848",
     "status": "completed"
    },
    "tags": []
   },
   "source": [
    "* NLP Engineering"
   ]
  },
  {
   "cell_type": "code",
   "execution_count": 19,
   "metadata": {
    "execution": {
     "iopub.execute_input": "2021-01-20T12:03:05.217562Z",
     "iopub.status.busy": "2021-01-20T12:03:05.202038Z",
     "iopub.status.idle": "2021-01-20T12:03:29.157180Z",
     "shell.execute_reply": "2021-01-20T12:03:29.156168Z"
    },
    "papermill": {
     "duration": 24.031444,
     "end_time": "2021-01-20T12:03:29.157295",
     "exception": false,
     "start_time": "2021-01-20T12:03:05.125851",
     "status": "completed"
    },
    "tags": []
   },
   "outputs": [],
   "source": [
    "def normalize(data):\n",
    "    normalized = []\n",
    "    for i in data:\n",
    "        i = i.lower()\n",
    "        # get rid of urls\n",
    "        i = re.sub('https?://\\S+|www\\.\\S+', '', i)\n",
    "        # get rid of non words and extra spaces\n",
    "        i = re.sub('\\\\W', ' ', i)\n",
    "        i = re.sub('\\n', '', i)\n",
    "        i = re.sub(' +', ' ', i)\n",
    "        i = re.sub('^ ', '', i)\n",
    "        i = re.sub(' $', '', i)\n",
    "        normalized.append(i)\n",
    "    return normalized\n",
    "\n",
    "X_train = normalize(X_train)\n",
    "X_test = normalize(X_test)"
   ]
  },
  {
   "cell_type": "code",
   "execution_count": 20,
   "metadata": {
    "execution": {
     "iopub.execute_input": "2021-01-20T12:03:29.256358Z",
     "iopub.status.busy": "2021-01-20T12:03:29.240885Z",
     "iopub.status.idle": "2021-01-20T12:03:42.516170Z",
     "shell.execute_reply": "2021-01-20T12:03:42.516809Z"
    },
    "papermill": {
     "duration": 13.324916,
     "end_time": "2021-01-20T12:03:42.516957",
     "exception": false,
     "start_time": "2021-01-20T12:03:29.192041",
     "status": "completed"
    },
    "tags": []
   },
   "outputs": [],
   "source": [
    "max_vocab = 10000\n",
    "tokenizer = Tokenizer(num_words=max_vocab)\n",
    "tokenizer.fit_on_texts(X_train)"
   ]
  },
  {
   "cell_type": "code",
   "execution_count": 21,
   "metadata": {
    "execution": {
     "iopub.execute_input": "2021-01-20T12:03:42.619844Z",
     "iopub.status.busy": "2021-01-20T12:03:42.609737Z",
     "iopub.status.idle": "2021-01-20T12:03:58.207202Z",
     "shell.execute_reply": "2021-01-20T12:03:58.206666Z"
    },
    "papermill": {
     "duration": 15.651662,
     "end_time": "2021-01-20T12:03:58.207339",
     "exception": false,
     "start_time": "2021-01-20T12:03:42.555677",
     "status": "completed"
    },
    "tags": []
   },
   "outputs": [],
   "source": [
    "# tokenize the text into vectors \n",
    "X_train = tokenizer.texts_to_sequences(X_train)\n",
    "X_test = tokenizer.texts_to_sequences(X_test)"
   ]
  },
  {
   "cell_type": "code",
   "execution_count": 22,
   "metadata": {
    "execution": {
     "iopub.execute_input": "2021-01-20T12:03:58.288414Z",
     "iopub.status.busy": "2021-01-20T12:03:58.287701Z",
     "iopub.status.idle": "2021-01-20T12:04:02.869117Z",
     "shell.execute_reply": "2021-01-20T12:04:02.868356Z"
    },
    "papermill": {
     "duration": 4.625566,
     "end_time": "2021-01-20T12:04:02.869239",
     "exception": false,
     "start_time": "2021-01-20T12:03:58.243673",
     "status": "completed"
    },
    "tags": []
   },
   "outputs": [
    {
     "name": "stdout",
     "output_type": "stream",
     "text": [
      "Model: \"sequential\"\n",
      "_________________________________________________________________\n",
      "Layer (type)                 Output Shape              Param #   \n",
      "=================================================================\n",
      "embedding (Embedding)        (None, None, 32)          320000    \n",
      "_________________________________________________________________\n",
      "bidirectional (Bidirectional (None, None, 128)         49664     \n",
      "_________________________________________________________________\n",
      "bidirectional_1 (Bidirection (None, 32)                18560     \n",
      "_________________________________________________________________\n",
      "dense (Dense)                (None, 64)                2112      \n",
      "_________________________________________________________________\n",
      "dropout (Dropout)            (None, 64)                0         \n",
      "_________________________________________________________________\n",
      "dense_1 (Dense)              (None, 1)                 65        \n",
      "=================================================================\n",
      "Total params: 390,401\n",
      "Trainable params: 390,401\n",
      "Non-trainable params: 0\n",
      "_________________________________________________________________\n"
     ]
    }
   ],
   "source": [
    "#Build RNN modle\n",
    "\n",
    "model = tf.keras.Sequential([\n",
    "    tf.keras.layers.Embedding(max_vocab, 32),\n",
    "    tf.keras.layers.Bidirectional(tf.keras.layers.LSTM(64,  return_sequences=True)),\n",
    "    tf.keras.layers.Bidirectional(tf.keras.layers.LSTM(16)),\n",
    "    tf.keras.layers.Dense(64, activation='relu'),\n",
    "    tf.keras.layers.Dropout(0.5),\n",
    "    tf.keras.layers.Dense(1)\n",
    "])\n",
    "\n",
    "model.summary()"
   ]
  },
  {
   "cell_type": "code",
   "execution_count": 23,
   "metadata": {
    "execution": {
     "iopub.execute_input": "2021-01-20T12:04:02.960817Z",
     "iopub.status.busy": "2021-01-20T12:04:02.959545Z",
     "iopub.status.idle": "2021-01-20T12:04:05.337388Z",
     "shell.execute_reply": "2021-01-20T12:04:05.336372Z"
    },
    "papermill": {
     "duration": 2.432782,
     "end_time": "2021-01-20T12:04:05.337536",
     "exception": false,
     "start_time": "2021-01-20T12:04:02.904754",
     "status": "completed"
    },
    "tags": []
   },
   "outputs": [],
   "source": [
    "X_train = tf.keras.preprocessing.sequence.pad_sequences(X_train, padding='post', maxlen=256)\n",
    "X_test = tf.keras.preprocessing.sequence.pad_sequences(X_test, padding='post', maxlen=256)"
   ]
  },
  {
   "cell_type": "markdown",
   "metadata": {
    "papermill": {
     "duration": 0.036091,
     "end_time": "2021-01-20T12:04:05.410760",
     "exception": false,
     "start_time": "2021-01-20T12:04:05.374669",
     "status": "completed"
    },
    "tags": []
   },
   "source": [
    "# Train an LSTM Model\n"
   ]
  },
  {
   "cell_type": "code",
   "execution_count": 24,
   "metadata": {
    "execution": {
     "iopub.execute_input": "2021-01-20T12:04:05.499016Z",
     "iopub.status.busy": "2021-01-20T12:04:05.497215Z",
     "iopub.status.idle": "2021-01-20T12:09:00.387952Z",
     "shell.execute_reply": "2021-01-20T12:09:00.387126Z"
    },
    "papermill": {
     "duration": 294.942448,
     "end_time": "2021-01-20T12:09:00.388100",
     "exception": false,
     "start_time": "2021-01-20T12:04:05.445652",
     "status": "completed"
    },
    "tags": []
   },
   "outputs": [
    {
     "name": "stdout",
     "output_type": "stream",
     "text": [
      "Epoch 1/10\n",
      "1078/1078 [==============================] - 49s 45ms/step - loss: 0.3021 - accuracy: 0.8547 - val_loss: 0.1436 - val_accuracy: 0.9563\n",
      "Epoch 2/10\n",
      "1078/1078 [==============================] - 46s 43ms/step - loss: 0.0814 - accuracy: 0.9769 - val_loss: 0.0611 - val_accuracy: 0.9811\n",
      "Epoch 3/10\n",
      "1078/1078 [==============================] - 47s 44ms/step - loss: 0.0448 - accuracy: 0.9873 - val_loss: 0.0455 - val_accuracy: 0.9852\n",
      "Epoch 4/10\n",
      "1078/1078 [==============================] - 48s 45ms/step - loss: 0.0243 - accuracy: 0.9939 - val_loss: 0.0398 - val_accuracy: 0.9869\n",
      "Epoch 5/10\n",
      "1078/1078 [==============================] - 47s 44ms/step - loss: 0.0138 - accuracy: 0.9967 - val_loss: 0.0558 - val_accuracy: 0.9813\n",
      "Epoch 6/10\n",
      "1078/1078 [==============================] - 48s 44ms/step - loss: 0.0106 - accuracy: 0.9975 - val_loss: 0.0424 - val_accuracy: 0.9875\n"
     ]
    }
   ],
   "source": [
    "early_stop = tf.keras.callbacks.EarlyStopping(monitor='val_loss', patience=2, restore_best_weights=True)\n",
    "model.compile(loss=tf.keras.losses.BinaryCrossentropy(from_logits=True),\n",
    "              optimizer=tf.keras.optimizers.Adam(1e-4),\n",
    "              metrics=['accuracy'])\n",
    "\n",
    "history = model.fit(X_train, y_train, epochs=10,validation_split=0.1, batch_size=30, shuffle=True, callbacks=[early_stop])"
   ]
  },
  {
   "cell_type": "code",
   "execution_count": 25,
   "metadata": {
    "execution": {
     "iopub.execute_input": "2021-01-20T12:09:03.962829Z",
     "iopub.status.busy": "2021-01-20T12:09:03.962095Z",
     "iopub.status.idle": "2021-01-20T12:09:04.381682Z",
     "shell.execute_reply": "2021-01-20T12:09:04.382308Z"
    },
    "papermill": {
     "duration": 2.476186,
     "end_time": "2021-01-20T12:09:04.382455",
     "exception": false,
     "start_time": "2021-01-20T12:09:01.906269",
     "status": "completed"
    },
    "tags": []
   },
   "outputs": [
    {
     "data": {
      "image/png": "[encoded data removed]",
      "text/plain": [
       "<Figure size 864x648 with 1 Axes>"
      ]
     },
     "metadata": {},
     "output_type": "display_data"
    },
    {
     "data": {
      "image/png": "[encoded data removed]",
      "text/plain": [
       "<Figure size 864x648 with 1 Axes>"
      ]
     },
     "metadata": {},
     "output_type": "display_data"
    }
   ],
   "source": [
    "history_dict = history.history\n",
    "\n",
    "acc = history_dict['accuracy']\n",
    "val_acc = history_dict['val_accuracy']\n",
    "loss = history_dict['loss']\n",
    "val_loss = history_dict['val_loss']\n",
    "epochs = history.epoch\n",
    "\n",
    "plt.figure(figsize=(12,9))\n",
    "plt.plot(epochs, loss, 'r', label='Training loss')\n",
    "plt.plot(epochs, val_loss, 'b', label='Validation loss')\n",
    "plt.title('Training and validation loss', size=20)\n",
    "plt.xlabel('Epochs', size=20)\n",
    "plt.ylabel('Loss', size=20)\n",
    "plt.legend(prop={'size': 20})\n",
    "plt.show()\n",
    "\n",
    "plt.figure(figsize=(12,9))\n",
    "plt.plot(epochs, acc, 'g', label='Training acc')\n",
    "plt.plot(epochs, val_acc, 'b', label='Validation acc')\n",
    "plt.title('Training and validation accuracy', size=20)\n",
    "plt.xlabel('Epochs', size=20)\n",
    "plt.ylabel('Accuracy', size=20)\n",
    "plt.legend(prop={'size': 20})\n",
    "plt.ylim((0.5,1))\n",
    "plt.show()"
   ]
  },
  {
   "cell_type": "markdown",
   "metadata": {
    "papermill": {
     "duration": 1.352857,
     "end_time": "2021-01-20T12:09:07.166563",
     "exception": false,
     "start_time": "2021-01-20T12:09:05.813706",
     "status": "completed"
    },
    "tags": []
   },
   "source": [
    "# Evaluate trained model performance"
   ]
  },
  {
   "cell_type": "code",
   "execution_count": 26,
   "metadata": {
    "execution": {
     "iopub.execute_input": "2021-01-20T12:09:09.971229Z",
     "iopub.status.busy": "2021-01-20T12:09:09.970248Z",
     "iopub.status.idle": "2021-01-20T12:09:14.832887Z",
     "shell.execute_reply": "2021-01-20T12:09:14.832118Z"
    },
    "papermill": {
     "duration": 6.283301,
     "end_time": "2021-01-20T12:09:14.833046",
     "exception": false,
     "start_time": "2021-01-20T12:09:08.549745",
     "status": "completed"
    },
    "tags": []
   },
   "outputs": [
    {
     "name": "stdout",
     "output_type": "stream",
     "text": [
      "281/281 [==============================] - 5s 17ms/step - loss: 0.0396 - accuracy: 0.9880\n"
     ]
    },
    {
     "data": {
      "text/plain": [
       "[0.03960839658975601, 0.9879732728004456]"
      ]
     },
     "execution_count": 26,
     "metadata": {},
     "output_type": "execute_result"
    }
   ],
   "source": [
    "model.evaluate(X_test, y_test)"
   ]
  },
  {
   "cell_type": "code",
   "execution_count": 27,
   "metadata": {
    "execution": {
     "iopub.execute_input": "2021-01-20T12:09:17.645075Z",
     "iopub.status.busy": "2021-01-20T12:09:17.643996Z",
     "iopub.status.idle": "2021-01-20T12:09:23.291270Z",
     "shell.execute_reply": "2021-01-20T12:09:23.290652Z"
    },
    "papermill": {
     "duration": 7.073773,
     "end_time": "2021-01-20T12:09:23.291410",
     "exception": false,
     "start_time": "2021-01-20T12:09:16.217637",
     "status": "completed"
    },
    "tags": []
   },
   "outputs": [],
   "source": [
    "pred = model.predict(X_test)\n",
    "\n",
    "binary_predictions = []\n",
    "\n",
    "for i in pred:\n",
    "    if i >= 0.5:\n",
    "        binary_predictions.append(1)\n",
    "    else:\n",
    "        binary_predictions.append(0) "
   ]
  },
  {
   "cell_type": "code",
   "execution_count": 28,
   "metadata": {
    "execution": {
     "iopub.execute_input": "2021-01-20T12:09:26.308290Z",
     "iopub.status.busy": "2021-01-20T12:09:26.307326Z",
     "iopub.status.idle": "2021-01-20T12:09:26.352225Z",
     "shell.execute_reply": "2021-01-20T12:09:26.353008Z"
    },
    "papermill": {
     "duration": 1.454476,
     "end_time": "2021-01-20T12:09:26.353204",
     "exception": false,
     "start_time": "2021-01-20T12:09:24.898728",
     "status": "completed"
    },
    "tags": []
   },
   "outputs": [
    {
     "name": "stdout",
     "output_type": "stream",
     "text": [
      "Accuracy on testing set: 0.9879732739420936\n",
      "Precision on testing set: 0.9865678554886521\n",
      "Recall on testing set: 0.988399071925754\n"
     ]
    }
   ],
   "source": [
    "print('Accuracy on testing set:', accuracy_score(binary_predictions, y_test))\n",
    "print('Precision on testing set:', precision_score(binary_predictions, y_test))\n",
    "print('Recall on testing set:', recall_score(binary_predictions, y_test))"
   ]
  },
  {
   "cell_type": "code",
   "execution_count": 29,
   "metadata": {
    "execution": {
     "iopub.execute_input": "2021-01-20T12:09:29.170249Z",
     "iopub.status.busy": "2021-01-20T12:09:29.169339Z",
     "iopub.status.idle": "2021-01-20T12:09:29.430177Z",
     "shell.execute_reply": "2021-01-20T12:09:29.430740Z"
    },
    "papermill": {
     "duration": 1.673478,
     "end_time": "2021-01-20T12:09:29.430923",
     "exception": false,
     "start_time": "2021-01-20T12:09:27.757445",
     "status": "completed"
    },
    "tags": []
   },
   "outputs": [
    {
     "data": {
      "text/plain": [
       "[Text(0, 0.5, '0'), Text(0, 1.5, '1')]"
      ]
     },
     "execution_count": 29,
     "metadata": {},
     "output_type": "execute_result"
    },
    {
     "data": {
      "image/png": "[encoded data removed]",
      "text/plain": [
       "<Figure size 1152x648 with 2 Axes>"
      ]
     },
     "metadata": {},
     "output_type": "display_data"
    }
   ],
   "source": [
    "matrix = confusion_matrix(binary_predictions, y_test, normalize='all')\n",
    "plt.figure(figsize=(16, 9))\n",
    "ax= plt.subplot()\n",
    "sns.heatmap(matrix, annot=True, ax = ax)\n",
    "\n",
    "# labels, title and ticks\n",
    "ax.set_xlabel('Predicted Labels', size=20)\n",
    "ax.set_ylabel('True Labels', size=20)\n",
    "ax.set_title('Confusion Matrix', size=20) \n",
    "ax.xaxis.set_ticklabels([0,1], size=15)\n",
    "ax.yaxis.set_ticklabels([0,1], size=15)"
   ]
  },
  {
   "cell_type": "code",
   "execution_count": 30,
   "metadata": {
    "execution": {
     "iopub.execute_input": "2021-01-20T12:09:32.296811Z",
     "iopub.status.busy": "2021-01-20T12:09:32.295853Z",
     "iopub.status.idle": "2021-01-20T12:09:32.301348Z",
     "shell.execute_reply": "2021-01-20T12:09:32.300752Z"
    },
    "papermill": {
     "duration": 1.408893,
     "end_time": "2021-01-20T12:09:32.301458",
     "exception": false,
     "start_time": "2021-01-20T12:09:30.892565",
     "status": "completed"
    },
    "tags": []
   },
   "outputs": [
    {
     "name": "stdout",
     "output_type": "stream",
     "text": [
      "(10000, 32)\n"
     ]
    }
   ],
   "source": [
    "e = model.layers[0]\n",
    "weights = e.get_weights()[0]\n",
    "print(weights.shape) # shape: (vocab_size, embedding_dim)"
   ]
  },
  {
   "cell_type": "code",
   "execution_count": 31,
   "metadata": {
    "execution": {
     "iopub.execute_input": "2021-01-20T12:09:34.983790Z",
     "iopub.status.busy": "2021-01-20T12:09:34.982728Z",
     "iopub.status.idle": "2021-01-20T12:09:34.986010Z",
     "shell.execute_reply": "2021-01-20T12:09:34.985475Z"
    },
    "papermill": {
     "duration": 1.351888,
     "end_time": "2021-01-20T12:09:34.986121",
     "exception": false,
     "start_time": "2021-01-20T12:09:33.634233",
     "status": "completed"
    },
    "tags": []
   },
   "outputs": [],
   "source": [
    "word_index = list(tokenizer.word_index.keys())\n",
    "word_index = word_index[:max_vocab-1]"
   ]
  },
  {
   "cell_type": "code",
   "execution_count": 32,
   "metadata": {
    "execution": {
     "iopub.execute_input": "2021-01-20T12:09:37.978087Z",
     "iopub.status.busy": "2021-01-20T12:09:37.969944Z",
     "iopub.status.idle": "2021-01-20T12:09:38.311674Z",
     "shell.execute_reply": "2021-01-20T12:09:38.310952Z"
    },
    "papermill": {
     "duration": 1.713608,
     "end_time": "2021-01-20T12:09:38.311798",
     "exception": false,
     "start_time": "2021-01-20T12:09:36.598190",
     "status": "completed"
    },
    "tags": []
   },
   "outputs": [],
   "source": [
    "import io\n",
    "\n",
    "out_v = io.open('fakenews_vecs.tsv', 'w', encoding='utf-8')\n",
    "out_m = io.open('fakenews_meta.tsv', 'w', encoding='utf-8')\n",
    "\n",
    "for num, word in enumerate(word_index):\n",
    "  vec = weights[num+1] # skip 0, it's padding.\n",
    "  out_m.write(word + \"\\n\")\n",
    "  out_v.write('\\t'.join([str(x) for x in vec]) + \"\\n\")\n",
    "out_v.close()\n",
    "out_m.close()"
   ]
  },
  {
   "cell_type": "code",
   "execution_count": null,
   "metadata": {
    "papermill": {
     "duration": 1.369361,
     "end_time": "2021-01-20T12:09:41.031352",
     "exception": false,
     "start_time": "2021-01-20T12:09:39.661991",
     "status": "completed"
    },
    "tags": []
   },
   "outputs": [],
   "source": []
  }
 ],
 "metadata": {
  "kernelspec": {
   "display_name": "Python 3",
   "language": "python",
   "name": "python3"
  },
  "language_info": {
   "codemirror_mode": {
    "name": "ipython",
    "version": 3
   },
   "file_extension": ".py",
   "mimetype": "text/x-python",
   "name": "python",
   "nbconvert_exporter": "python",
   "pygments_lexer": "ipython3",
   "version": "3.8.5"
  },
  "papermill": {
   "duration": 414.344482,
   "end_time": "2021-01-20T12:09:43.999624",
   "environment_variables": {},
   "exception": null,
   "input_path": "__notebook__.ipynb",
   "output_path": "__notebook__.ipynb",
   "parameters": {},
   "start_time": "2021-01-20T12:02:49.655142",
   "version": "2.1.0"
  }
 },
 "nbformat": 4,
 "nbformat_minor": 4
}
